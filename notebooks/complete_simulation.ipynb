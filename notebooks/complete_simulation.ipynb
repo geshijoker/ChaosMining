{
 "cells": [
  {
   "cell_type": "code",
   "execution_count": 1,
   "id": "3ffd156e",
   "metadata": {},
   "outputs": [],
   "source": [
    "%reload_ext autoreload\n",
    "%autoreload 2"
   ]
  },
  {
   "cell_type": "code",
   "execution_count": 2,
   "id": "99c70c5d",
   "metadata": {},
   "outputs": [],
   "source": [
    "import time\n",
    "import os\n",
    "import sys\n",
    "import copy\n",
    "import time\n",
    "import datetime\n",
    "import random\n",
    "import math\n",
    "import warnings\n",
    "warnings.filterwarnings('ignore')"
   ]
  },
  {
   "cell_type": "code",
   "execution_count": 3,
   "id": "e3b3b59c",
   "metadata": {},
   "outputs": [],
   "source": [
    "import torch\n",
    "import torch.nn.functional as F\n",
    "from torch import nn\n",
    "from torch.utils.data import TensorDataset, DataLoader\n",
    "from torch import Tensor\n",
    "import torch.optim as optim\n",
    "from torch.optim import lr_scheduler\n",
    "import torch.backends.cudnn as cudnn"
   ]
  },
  {
   "cell_type": "code",
   "execution_count": 4,
   "id": "b1475eb4",
   "metadata": {},
   "outputs": [],
   "source": [
    "import matplotlib\n",
    "# mpl.use('Agg')\n",
    "%matplotlib inline\n",
    "import matplotlib.pyplot as plt\n",
    "from matplotlib import pyplot as plt \n",
    "from matplotlib.colors import ListedColormap\n",
    "\n",
    "matplotlib.rcParams['lines.linewidth'] = 1\n",
    "matplotlib.rcParams['lines.markersize'] = 5\n",
    "plt.rcParams['figure.figsize'] = [4, 4]"
   ]
  },
  {
   "cell_type": "code",
   "execution_count": 5,
   "id": "2e368d92",
   "metadata": {},
   "outputs": [],
   "source": [
    "import numpy as np\n",
    "import scipy\n",
    "import seaborn as sns\n",
    "\n",
    "from tqdm.notebook import tqdm, trange"
   ]
  },
  {
   "cell_type": "code",
   "execution_count": 6,
   "id": "665b4e24",
   "metadata": {},
   "outputs": [],
   "source": [
    "sys.path.append(\"../\")"
   ]
  },
  {
   "cell_type": "code",
   "execution_count": 7,
   "id": "995f62d7",
   "metadata": {},
   "outputs": [],
   "source": [
    "from chaosmining.data_utils import read_formulas, create_simulation_data\n",
    "from chaosmining.simulation.models import MLPRegressor"
   ]
  },
  {
   "cell_type": "code",
   "execution_count": 8,
   "id": "8349948f",
   "metadata": {},
   "outputs": [],
   "source": [
    "from sklearn.model_selection import train_test_split\n",
    "from sklearn.metrics import mean_absolute_error"
   ]
  },
  {
   "cell_type": "code",
   "execution_count": 9,
   "id": "ffd325b2",
   "metadata": {},
   "outputs": [],
   "source": [
    "from captum.attr import IntegratedGradients, Saliency, DeepLift, FeatureAblation"
   ]
  },
  {
   "cell_type": "markdown",
   "id": "598548c4",
   "metadata": {},
   "source": [
    "# Generate Functions and Data"
   ]
  },
  {
   "cell_type": "code",
   "execution_count": 10,
   "id": "6f54e9cd",
   "metadata": {},
   "outputs": [],
   "source": [
    "formulas_path = '../data/symbolic_simulation/formula.csv'"
   ]
  },
  {
   "cell_type": "code",
   "execution_count": 11,
   "id": "cd9c3ad6",
   "metadata": {},
   "outputs": [],
   "source": [
    "formulas = read_formulas(formulas_path)"
   ]
  },
  {
   "cell_type": "code",
   "execution_count": 12,
   "id": "7971e5a8",
   "metadata": {},
   "outputs": [],
   "source": [
    "formula_id = 9\n",
    "seed = 42\n",
    "test_size = 0.2"
   ]
  },
  {
   "cell_type": "code",
   "execution_count": 13,
   "id": "63a0dcb6",
   "metadata": {},
   "outputs": [],
   "source": [
    "num_features, function = formulas[formula_id]"
   ]
  },
  {
   "cell_type": "code",
   "execution_count": 14,
   "id": "585ff04c",
   "metadata": {},
   "outputs": [
    {
     "name": "stdout",
     "output_type": "stream",
     "text": [
      "X (10000, 15) y true (10000, 1) y noise (10000, 1) intercepts 5 (10000,) derivatives 5 (10000,) integrations 5 (10000,)\n"
     ]
    }
   ],
   "source": [
    "num_noises = 10\n",
    "num_data = 10000\n",
    "X_var = 0.33\n",
    "y_var = 0.01\n",
    "X, y_true, y_noise, intercepts, derivatives, integrations = create_simulation_data(function, num_features, num_noises, num_data, X_var, y_var, enable_der=True, enable_int=True)\n",
    "print('X', X.shape, 'y true', y_true.shape, 'y noise', y_noise.shape, \n",
    "      'intercepts', len(intercepts), intercepts[0].shape,\n",
    "      'derivatives', len(derivatives), derivatives[0].shape, \n",
    "      'integrations', len(integrations), integrations[0].shape)"
   ]
  },
  {
   "cell_type": "code",
   "execution_count": 15,
   "id": "36af81e6",
   "metadata": {},
   "outputs": [],
   "source": [
    "intercepts = np.stack(intercepts, axis=1)\n",
    "derivatives = np.stack(derivatives, axis=1)\n",
    "integrations = np.stack(integrations, axis=1)"
   ]
  },
  {
   "cell_type": "code",
   "execution_count": 16,
   "id": "a2caaf62",
   "metadata": {},
   "outputs": [],
   "source": [
    "y = y_true + y_noise"
   ]
  },
  {
   "cell_type": "code",
   "execution_count": 17,
   "id": "c2a2463c",
   "metadata": {},
   "outputs": [],
   "source": [
    "X_train, X_test, \\\n",
    "y_train, y_test, \\\n",
    "y_true_train, y_true_test, \\\n",
    "intercepts_train, intercepts_test, \\\n",
    "derivatives_train, derivatives_test, \\\n",
    "integrations_train, integrations_test \\\n",
    "= train_test_split(X, y, y_true, intercepts, derivatives, integrations, test_size=test_size, random_state=seed)"
   ]
  },
  {
   "cell_type": "markdown",
   "id": "84d5706a",
   "metadata": {},
   "source": [
    "# Training and Test a MLP"
   ]
  },
  {
   "cell_type": "code",
   "execution_count": 18,
   "id": "838dac90",
   "metadata": {},
   "outputs": [],
   "source": [
    "train_set = TensorDataset(Tensor(X_train), Tensor(y_train))\n",
    "train_loader = DataLoader(train_set, batch_size=y_train.shape[0], shuffle=True)\n",
    "test_set = TensorDataset(Tensor(X_test), Tensor(y_test))\n",
    "test_loader = DataLoader(test_set, batch_size=y_test.shape[0])"
   ]
  },
  {
   "cell_type": "code",
   "execution_count": 19,
   "id": "b9786679",
   "metadata": {},
   "outputs": [],
   "source": [
    "hidden_layer_sizes = (100,100,100)\n",
    "num_epochs = 1000"
   ]
  },
  {
   "cell_type": "code",
   "execution_count": 20,
   "id": "1876a610",
   "metadata": {},
   "outputs": [],
   "source": [
    "device = torch.device('cuda' if torch.cuda.is_available() else 'cpu')"
   ]
  },
  {
   "cell_type": "code",
   "execution_count": 21,
   "id": "161ce792",
   "metadata": {},
   "outputs": [
    {
     "data": {
      "text/plain": [
       "MLPRegressor(\n",
       "  (blocks): ModuleList(\n",
       "    (0): LinearBlock(\n",
       "      (net): Sequential(\n",
       "        (0): Linear(in_features=15, out_features=100, bias=True)\n",
       "        (1): GELU(approximate='none')\n",
       "      )\n",
       "    )\n",
       "    (1): LinearBlock(\n",
       "      (net): Sequential(\n",
       "        (0): Linear(in_features=100, out_features=100, bias=True)\n",
       "        (1): GELU(approximate='none')\n",
       "      )\n",
       "    )\n",
       "    (2): LinearBlock(\n",
       "      (net): Sequential(\n",
       "        (0): Linear(in_features=100, out_features=100, bias=True)\n",
       "        (1): GELU(approximate='none')\n",
       "      )\n",
       "    )\n",
       "  )\n",
       "  (dropout): Dropout(p=0.0, inplace=False)\n",
       "  (project): Linear(in_features=100, out_features=1, bias=True)\n",
       ")"
      ]
     },
     "execution_count": 21,
     "metadata": {},
     "output_type": "execute_result"
    }
   ],
   "source": [
    "model = MLPRegressor(num_features+num_noises, hidden_layer_sizes, p=0.0)\n",
    "model.to(device)\n",
    "model.train()"
   ]
  },
  {
   "cell_type": "code",
   "execution_count": 22,
   "id": "835f1ff9",
   "metadata": {},
   "outputs": [],
   "source": [
    "criterion = nn.MSELoss(reduction='mean')\n",
    "optimizer = torch.optim.Adam(model.parameters(), 0.001)"
   ]
  },
  {
   "cell_type": "code",
   "execution_count": 23,
   "id": "ad80f016",
   "metadata": {},
   "outputs": [],
   "source": [
    "def train(model, dataloader, num_epochs, optimizer):\n",
    "    pbar = trange(num_epochs, desc='Train', unit='epoch', initial=0)\n",
    "    for epoch in pbar:  # loop over the dataset multiple times\n",
    "        running_loss = 0.0\n",
    "        for inputs, targets in dataloader:\n",
    "            inputs = inputs.to(device)\n",
    "            targets = targets.to(device)\n",
    "            # forward pass\n",
    "            outputs = model(inputs)\n",
    "            # defining loss\n",
    "            loss = criterion(outputs, targets)\n",
    "            # zero the parameter gradients\n",
    "            optimizer.zero_grad()\n",
    "            # computing gradients\n",
    "            loss.backward()\n",
    "            # accumulating running loss\n",
    "            running_loss += loss.item()\n",
    "            # updated weights based on computed gradients\n",
    "            optimizer.step()\n",
    "        pbar.set_postfix(loss = '%.3f' % running_loss)"
   ]
  },
  {
   "cell_type": "code",
   "execution_count": 24,
   "id": "c51ccaba",
   "metadata": {},
   "outputs": [
    {
     "data": {
      "application/vnd.jupyter.widget-view+json": {
       "model_id": "250d5dcd86de47579d12a7a117f3b7cc",
       "version_major": 2,
       "version_minor": 0
      },
      "text/plain": [
       "Train:   0%|          | 0/1000 [00:00<?, ?epoch/s]"
      ]
     },
     "metadata": {},
     "output_type": "display_data"
    }
   ],
   "source": [
    "train(model, train_loader, num_epochs, optimizer)"
   ]
  },
  {
   "cell_type": "code",
   "execution_count": 25,
   "id": "0193343d",
   "metadata": {},
   "outputs": [],
   "source": [
    "y_pred = model(Tensor(X_test).to(device)).detach().cpu().numpy()"
   ]
  },
  {
   "cell_type": "code",
   "execution_count": 26,
   "id": "dadec8db",
   "metadata": {},
   "outputs": [
    {
     "name": "stdout",
     "output_type": "stream",
     "text": [
      "Test mean absolute value is 0.015011196075352515\n"
     ]
    }
   ],
   "source": [
    "score = mean_absolute_error(y_pred, y_test)\n",
    "print('Test mean absolute value is', score)"
   ]
  },
  {
   "cell_type": "code",
   "execution_count": 27,
   "id": "c493667f",
   "metadata": {},
   "outputs": [
    {
     "data": {
      "image/png": "[encoded data removed]",
      "text/plain": [
       "<Figure size 288x288 with 1 Axes>"
      ]
     },
     "metadata": {
      "needs_background": "light"
     },
     "output_type": "display_data"
    }
   ],
   "source": [
    "plt.scatter(X_test[:,0], y_test, c='wheat', alpha=0.5)\n",
    "plt.scatter(X_test[:,0], y_pred, s=0.1, c='maroon', alpha=1)\n",
    "plt.title(f\"MLP predictions on seudo data, score={score:.4f}\")\n",
    "plt.show()"
   ]
  },
  {
   "cell_type": "markdown",
   "id": "1c34ced4",
   "metadata": {},
   "source": [
    "# Generate Local Explanations"
   ]
  },
  {
   "cell_type": "code",
   "execution_count": 28,
   "id": "9cb1f511",
   "metadata": {},
   "outputs": [],
   "source": [
    "dl = DeepLift(model)\n",
    "fa = FeatureAblation(model)\n",
    "sa = Saliency(model)\n",
    "ig = IntegratedGradients(model)"
   ]
  },
  {
   "cell_type": "code",
   "execution_count": 29,
   "id": "ce2a0e04",
   "metadata": {},
   "outputs": [],
   "source": [
    "dl_attr_test = dl.attribute(Tensor(X_test).to(device))"
   ]
  },
  {
   "cell_type": "code",
   "execution_count": 30,
   "id": "b6a14aab",
   "metadata": {},
   "outputs": [],
   "source": [
    "fa_attr_test = fa.attribute(Tensor(X_test).to(device))"
   ]
  },
  {
   "cell_type": "code",
   "execution_count": 31,
   "id": "c63c1ab5",
   "metadata": {},
   "outputs": [],
   "source": [
    "sa_attr_test = sa.attribute(Tensor(X_test).to(device))"
   ]
  },
  {
   "cell_type": "code",
   "execution_count": 32,
   "id": "fd543692",
   "metadata": {},
   "outputs": [],
   "source": [
    "ig_attr_test = ig.attribute(Tensor(X_test).to(device), n_steps=20)"
   ]
  },
  {
   "cell_type": "markdown",
   "id": "510e1847",
   "metadata": {},
   "source": [
    "# Compare Local Explanations with gtrue"
   ]
  },
  {
   "cell_type": "markdown",
   "id": "2f50eba7",
   "metadata": {},
   "source": [
    "## 1. Prediction vs. Target"
   ]
  },
  {
   "cell_type": "code",
   "execution_count": 33,
   "id": "5ac211a3",
   "metadata": {},
   "outputs": [],
   "source": [
    "y_diff = y_pred - y_true_test"
   ]
  },
  {
   "cell_type": "code",
   "execution_count": 34,
   "id": "f379fd8d",
   "metadata": {},
   "outputs": [
    {
     "data": {
      "image/png": "[encoded data removed]",
      "text/plain": [
       "<Figure size 288x288 with 1 Axes>"
      ]
     },
     "metadata": {
      "needs_background": "light"
     },
     "output_type": "display_data"
    }
   ],
   "source": [
    "fig, ax = plt.subplots(1, 1, sharey=True, tight_layout=True)\n",
    "\n",
    "ax.hist(y_diff, bins=20)\n",
    "plt.show()"
   ]
  },
  {
   "cell_type": "code",
   "execution_count": 35,
   "id": "cfa70209",
   "metadata": {},
   "outputs": [],
   "source": [
    "def mean_std_absolute_error(preds, targets):\n",
    "    abs_diff = np.absolute(preds-targets)\n",
    "    return np.mean(abs_diff), np.std(abs_diff)"
   ]
  },
  {
   "cell_type": "code",
   "execution_count": 36,
   "id": "41db9a96",
   "metadata": {},
   "outputs": [],
   "source": [
    "def mean_std_absolute_error_ratio(preds, targets):\n",
    "    abs_diff = np.absolute(preds-targets)\n",
    "    abs_targets = np.absolute(targets)\n",
    "    diff_ratio = abs_diff/abs_targets\n",
    "    return np.mean(diff_ratio), np.std(diff_ratio)"
   ]
  },
  {
   "cell_type": "code",
   "execution_count": 37,
   "id": "d7db8952",
   "metadata": {},
   "outputs": [],
   "source": [
    "mean_abs_y_diff, std_abs_y_diff = mean_std_absolute_error(y_pred, y_true_test)"
   ]
  },
  {
   "cell_type": "code",
   "execution_count": 38,
   "id": "13be403c",
   "metadata": {},
   "outputs": [
    {
     "name": "stdout",
     "output_type": "stream",
     "text": [
      "The mean and standard deviation of absolute error of predictions and targets are       0.013 and 0.014\n"
     ]
    }
   ],
   "source": [
    "print(f'The mean and standard deviation of absolute error of predictions and targets are \\\n",
    "      {mean_abs_y_diff:.3f} and {std_abs_y_diff:.3f}')"
   ]
  },
  {
   "cell_type": "markdown",
   "id": "d34ba49c",
   "metadata": {},
   "source": [
    "## 2. Top Features Using DeepLift"
   ]
  },
  {
   "cell_type": "code",
   "execution_count": 39,
   "id": "2c8fa637",
   "metadata": {},
   "outputs": [
    {
     "data": {
      "image/png": "[encoded data removed]",
      "text/plain": [
       "<Figure size 864x432 with 1 Axes>"
      ]
     },
     "metadata": {
      "needs_background": "light"
     },
     "output_type": "display_data"
    }
   ],
   "source": [
    "num_feature_show = num_features\n",
    "x_axis_data = np.arange(num_feature_show)\n",
    "x_axis_data_labels = list(range(num_feature_show))\n",
    "\n",
    "dl_attr_test_sum = dl_attr_test.detach().cpu().numpy().sum(0)\n",
    "dl_attr_test_norm_sum = dl_attr_test_sum / np.linalg.norm(dl_attr_test_sum, ord=1)\n",
    "\n",
    "intercepts_test_sum = np.zeros(num_feature_show)\n",
    "intercepts_test_sum[:num_features] = intercepts_test.sum(0)\n",
    "intercepts_test_norm_sum = intercepts_test_sum / np.linalg.norm(intercepts_test_sum, ord=1)\n",
    "\n",
    "width = 0.28\n",
    "legends = ['DeepLift', 'gtrue Feature Attribution']\n",
    "\n",
    "plt.figure(figsize=(12, 6))\n",
    "\n",
    "ax = plt.subplot()\n",
    "ax.set_title('Comparing average feature importances between DeepLift and numeric computation')\n",
    "ax.set_ylabel('Attributions')\n",
    "\n",
    "FONT_SIZE = 16\n",
    "plt.rc('font', size=FONT_SIZE)            # fontsize of the text sizes\n",
    "plt.rc('axes', titlesize=FONT_SIZE)       # fontsize of the axes title\n",
    "plt.rc('axes', labelsize=FONT_SIZE)       # fontsize of the x and y labels\n",
    "plt.rc('legend', fontsize=FONT_SIZE - 4)  # fontsize of the legend\n",
    "\n",
    "ax.bar(x_axis_data, dl_attr_test_norm_sum[:num_feature_show], width, align='center', alpha=0.6, color='#eb5e7c')\n",
    "ax.bar(x_axis_data + width, intercepts_test_norm_sum, width, align='center', alpha=0.6, color='#4260f5')\n",
    "ax.autoscale_view()\n",
    "plt.tight_layout()\n",
    "\n",
    "ax.set_xticks(x_axis_data + 0.5)\n",
    "ax.set_xticklabels(x_axis_data_labels)\n",
    "\n",
    "plt.legend(legends, loc=0)\n",
    "plt.axhline(y=0, color='black', linestyle='-')\n",
    "plt.show()"
   ]
  },
  {
   "cell_type": "code",
   "execution_count": 40,
   "id": "fd4e5e03",
   "metadata": {},
   "outputs": [],
   "source": [
    "def abs_argmax_topk(arrays, k):\n",
    "    inds = np.argpartition(np.abs(arrays), -k, axis=-1)[..., -k:]\n",
    "    return np.flip(inds, axis=-1)"
   ]
  },
  {
   "cell_type": "code",
   "execution_count": 41,
   "id": "59ccd5aa",
   "metadata": {},
   "outputs": [],
   "source": [
    "topk_inds = abs_argmax_topk(dl_attr_test.detach().cpu().numpy(), num_features)"
   ]
  },
  {
   "cell_type": "code",
   "execution_count": 42,
   "id": "250ef993",
   "metadata": {},
   "outputs": [],
   "source": [
    "def top_features_score(inds, num_features):\n",
    "    return np.sum(topk_inds<num_features)/np.prod(topk_inds.shape)"
   ]
  },
  {
   "cell_type": "code",
   "execution_count": 43,
   "id": "3aa42641",
   "metadata": {},
   "outputs": [
    {
     "name": "stdout",
     "output_type": "stream",
     "text": [
      "The score of learning from top 5 features is 0.8035\n"
     ]
    }
   ],
   "source": [
    "score = top_features_score(topk_inds, num_features)\n",
    "print(f'The score of learning from top {num_features} features is {score:.4f}')"
   ]
  },
  {
   "cell_type": "markdown",
   "id": "f649ad9b",
   "metadata": {},
   "source": [
    "## 3. Attribution from Baselines Using FeatureAblation"
   ]
  },
  {
   "cell_type": "code",
   "execution_count": 44,
   "id": "1e73326d",
   "metadata": {},
   "outputs": [
    {
     "data": {
      "image/png": "[encoded data removed]",
      "text/plain": [
       "<Figure size 864x432 with 1 Axes>"
      ]
     },
     "metadata": {
      "needs_background": "light"
     },
     "output_type": "display_data"
    }
   ],
   "source": [
    "x_axis_data = np.arange(num_feature_show)\n",
    "x_axis_data_labels = list(range(num_feature_show))\n",
    "\n",
    "fa_attr_test_sum = fa_attr_test.detach().cpu().numpy().sum(0)\n",
    "fa_attr_test_norm_sum = fa_attr_test_sum / np.linalg.norm(fa_attr_test_sum, ord=1)\n",
    "\n",
    "intercepts_test_sum = np.zeros(num_feature_show)\n",
    "intercepts_test_sum[:num_features] = intercepts_test.sum(0)\n",
    "intercepts_test_norm_sum = intercepts_test_sum / np.linalg.norm(intercepts_test_sum, ord=1)\n",
    "\n",
    "width = 0.28\n",
    "legends = ['Feature Ablation', 'gtrue Feature Attribution']\n",
    "\n",
    "plt.figure(figsize=(12, 6))\n",
    "\n",
    "ax = plt.subplot()\n",
    "ax.set_title('Comparing average feature importances between DeepLift and numeric computation')\n",
    "ax.set_ylabel('Attributions')\n",
    "\n",
    "FONT_SIZE = 16\n",
    "plt.rc('font', size=FONT_SIZE)            # fontsize of the text sizes\n",
    "plt.rc('axes', titlesize=FONT_SIZE)       # fontsize of the axes title\n",
    "plt.rc('axes', labelsize=FONT_SIZE)       # fontsize of the x and y labels\n",
    "plt.rc('legend', fontsize=FONT_SIZE - 4)  # fontsize of the legend\n",
    "\n",
    "ax.bar(x_axis_data, fa_attr_test_norm_sum[:num_feature_show], width, align='center', alpha=0.6, color='#eb5e7c')\n",
    "ax.bar(x_axis_data + width, intercepts_test_norm_sum, width, align='center', alpha=0.6, color='#4260f5')\n",
    "ax.autoscale_view()\n",
    "plt.tight_layout()\n",
    "\n",
    "ax.set_xticks(x_axis_data + 0.5)\n",
    "ax.set_xticklabels(x_axis_data_labels)\n",
    "\n",
    "plt.legend(legends, loc=0)\n",
    "plt.axhline(y=0, color='black', linestyle='-')\n",
    "plt.show()"
   ]
  },
  {
   "cell_type": "code",
   "execution_count": 45,
   "id": "a94ead3c",
   "metadata": {},
   "outputs": [],
   "source": [
    "fa_attr_test_rel = fa_attr_test.detach().cpu().numpy()[:,:num_features]"
   ]
  },
  {
   "cell_type": "code",
   "execution_count": 46,
   "id": "292098f8",
   "metadata": {},
   "outputs": [],
   "source": [
    "mean_abs_fa_ratio, std_abs_fa_ratio = mean_std_absolute_error_ratio(fa_attr_test_rel, intercepts_test)"
   ]
  },
  {
   "cell_type": "code",
   "execution_count": 47,
   "id": "3fa6aeab",
   "metadata": {},
   "outputs": [
    {
     "name": "stdout",
     "output_type": "stream",
     "text": [
      "The mean and standard deviation of absolute error of feature ablation and intercepts are       190.645 and 7126.847\n"
     ]
    }
   ],
   "source": [
    "print(f'The mean and standard deviation of absolute error of feature ablation and intercepts are \\\n",
    "      {mean_abs_fa_ratio:.3f} and {std_abs_fa_ratio:.3f}')"
   ]
  },
  {
   "cell_type": "markdown",
   "id": "8fefef4d",
   "metadata": {},
   "source": [
    "## 4. Gradient Using Saliency"
   ]
  },
  {
   "cell_type": "code",
   "execution_count": 48,
   "id": "eb67f396",
   "metadata": {},
   "outputs": [
    {
     "data": {
      "image/png": "[encoded data removed]",
      "text/plain": [
       "<Figure size 864x432 with 1 Axes>"
      ]
     },
     "metadata": {
      "needs_background": "light"
     },
     "output_type": "display_data"
    }
   ],
   "source": [
    "x_axis_data = np.arange(num_feature_show)\n",
    "x_axis_data_labels = list(range(num_feature_show))\n",
    "\n",
    "sa_attr_test_sum = sa_attr_test.detach().cpu().numpy().sum(0)\n",
    "sa_attr_test_norm_sum = sa_attr_test_sum / np.linalg.norm(sa_attr_test_sum, ord=1)\n",
    "\n",
    "derivatives_test_sum = np.zeros(num_feature_show)\n",
    "derivatives_test_sum[:num_features] = derivatives_test.sum(0)\n",
    "derivatives_test_norm_sum = derivatives_test_sum / np.linalg.norm(derivatives_test_sum, ord=1)\n",
    "\n",
    "width = 0.28\n",
    "legends = ['Saliency', 'gtrue Feature Attribution']\n",
    "\n",
    "plt.figure(figsize=(12, 6))\n",
    "\n",
    "ax = plt.subplot()\n",
    "ax.set_title('Comparing average feature importances between DeepLift and numeric computation')\n",
    "ax.set_ylabel('Attributions')\n",
    "\n",
    "FONT_SIZE = 16\n",
    "plt.rc('font', size=FONT_SIZE)            # fontsize of the text sizes\n",
    "plt.rc('axes', titlesize=FONT_SIZE)       # fontsize of the axes title\n",
    "plt.rc('axes', labelsize=FONT_SIZE)       # fontsize of the x and y labels\n",
    "plt.rc('legend', fontsize=FONT_SIZE - 4)  # fontsize of the legend\n",
    "\n",
    "ax.bar(x_axis_data, sa_attr_test_norm_sum[:num_feature_show], width, align='center', alpha=0.6, color='#eb5e7c')\n",
    "ax.bar(x_axis_data + width, derivatives_test_norm_sum, width, align='center', alpha=0.6, color='#4260f5')\n",
    "ax.autoscale_view()\n",
    "plt.tight_layout()\n",
    "\n",
    "ax.set_xticks(x_axis_data + 0.5)\n",
    "ax.set_xticklabels(x_axis_data_labels)\n",
    "\n",
    "plt.legend(legends, loc=0)\n",
    "plt.axhline(y=0, color='black', linestyle='-')\n",
    "plt.show()"
   ]
  },
  {
   "cell_type": "code",
   "execution_count": 49,
   "id": "f39a6dc1",
   "metadata": {},
   "outputs": [],
   "source": [
    "sa_attr_test_rel = sa_attr_test.detach().cpu().numpy()[:,:num_features]"
   ]
  },
  {
   "cell_type": "code",
   "execution_count": 50,
   "id": "28d1e3e9",
   "metadata": {},
   "outputs": [],
   "source": [
    "mean_abs_sa_ratio, std_abs_sa_ratio = mean_std_absolute_error_ratio(sa_attr_test_rel, derivatives_test)"
   ]
  },
  {
   "cell_type": "code",
   "execution_count": 51,
   "id": "54501dcf",
   "metadata": {},
   "outputs": [
    {
     "name": "stdout",
     "output_type": "stream",
     "text": [
      "The mean and standard deviation of absolute error of sacliency and derivatives are       9418.500 and 291168.326\n"
     ]
    }
   ],
   "source": [
    "print(f'The mean and standard deviation of absolute error of sacliency and derivatives are \\\n",
    "      {mean_abs_sa_ratio:.3f} and {std_abs_sa_ratio:.3f}')"
   ]
  },
  {
   "cell_type": "markdown",
   "id": "6c438608",
   "metadata": {},
   "source": [
    "## 5. Integration Using IntegratedGradients"
   ]
  },
  {
   "cell_type": "code",
   "execution_count": 52,
   "id": "64c76c7a",
   "metadata": {},
   "outputs": [
    {
     "data": {
      "image/png": "[encoded data removed]",
      "text/plain": [
       "<Figure size 864x432 with 1 Axes>"
      ]
     },
     "metadata": {
      "needs_background": "light"
     },
     "output_type": "display_data"
    }
   ],
   "source": [
    "x_axis_data = np.arange(num_feature_show)\n",
    "x_axis_data_labels = list(range(num_feature_show))\n",
    "\n",
    "ig_attr_test_sum = ig_attr_test.detach().cpu().numpy().sum(0)\n",
    "ig_attr_test_norm_sum = ig_attr_test_sum / np.linalg.norm(ig_attr_test_sum, ord=1)\n",
    "\n",
    "integrations_test_sum = np.zeros(num_feature_show)\n",
    "integrations_test_sum[:num_features] = integrations_test.sum(0)\n",
    "integrations_test_norm_sum = integrations_test_sum / np.linalg.norm(integrations_test_sum, ord=1)\n",
    "\n",
    "width = 0.28\n",
    "legends = ['Integrated Gradient', 'gtrue Feature Attribution']\n",
    "\n",
    "plt.figure(figsize=(12, 6))\n",
    "\n",
    "ax = plt.subplot()\n",
    "ax.set_title('Comparing average feature importances between DeepLift and numeric computation')\n",
    "ax.set_ylabel('Attributions')\n",
    "\n",
    "FONT_SIZE = 16\n",
    "plt.rc('font', size=FONT_SIZE)            # fontsize of the text sizes\n",
    "plt.rc('axes', titlesize=FONT_SIZE)       # fontsize of the axes title\n",
    "plt.rc('axes', labelsize=FONT_SIZE)       # fontsize of the x and y labels\n",
    "plt.rc('legend', fontsize=FONT_SIZE - 4)  # fontsize of the legend\n",
    "\n",
    "ax.bar(x_axis_data, ig_attr_test_norm_sum[:num_feature_show], width, align='center', alpha=0.6, color='#eb5e7c')\n",
    "ax.bar(x_axis_data + width, integrations_test_norm_sum, width, align='center', alpha=0.6, color='#4260f5')\n",
    "ax.autoscale_view()\n",
    "plt.tight_layout()\n",
    "\n",
    "ax.set_xticks(x_axis_data + 0.5)\n",
    "ax.set_xticklabels(x_axis_data_labels)\n",
    "\n",
    "plt.legend(legends, loc=0)\n",
    "plt.axhline(y=0, color='black', linestyle='-')\n",
    "plt.show()"
   ]
  },
  {
   "cell_type": "code",
   "execution_count": 53,
   "id": "9a4fdf0d",
   "metadata": {},
   "outputs": [],
   "source": [
    "ig_attr_test_rel = ig_attr_test.detach().cpu().numpy()[:,:num_features]"
   ]
  },
  {
   "cell_type": "code",
   "execution_count": 54,
   "id": "463790c5",
   "metadata": {},
   "outputs": [],
   "source": [
    "mean_abs_ig_ratio, std_abs_ig_ratio = mean_std_absolute_error_ratio(ig_attr_test_rel, integrations_test)"
   ]
  },
  {
   "cell_type": "code",
   "execution_count": 55,
   "id": "16dd6a57",
   "metadata": {},
   "outputs": [
    {
     "name": "stdout",
     "output_type": "stream",
     "text": [
      "The mean and standard deviation of absolute error of IG and integration are       1.187 and 4.074\n"
     ]
    }
   ],
   "source": [
    "print(f'The mean and standard deviation of absolute error of IG and integration are \\\n",
    "      {mean_abs_ig_ratio:.3f} and {std_abs_ig_ratio:.3f}')"
   ]
  },
  {
   "cell_type": "code",
   "execution_count": null,
   "id": "b688f7ff",
   "metadata": {},
   "outputs": [],
   "source": []
  }
 ],
 "metadata": {
  "kernelspec": {
   "display_name": "Python 3",
   "language": "python",
   "name": "python3"
  },
  "language_info": {
   "codemirror_mode": {
    "name": "ipython",
    "version": 3
   },
   "file_extension": ".py",
   "mimetype": "text/x-python",
   "name": "python",
   "nbconvert_exporter": "python",
   "pygments_lexer": "ipython3",
   "version": "3.8.10"
  }
 },
 "nbformat": 4,
 "nbformat_minor": 5
}
