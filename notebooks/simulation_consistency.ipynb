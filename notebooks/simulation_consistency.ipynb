{
 "cells": [
  {
   "cell_type": "code",
   "execution_count": 1,
   "id": "27f2becc-f3ca-4f4d-b8fe-d133504c8192",
   "metadata": {},
   "outputs": [],
   "source": [
    "%reload_ext autoreload\n",
    "%reload_ext autoreload"
   ]
  },
  {
   "cell_type": "code",
   "execution_count": 2,
   "id": "8975b501-9d6f-4289-88f2-b196a9388daa",
   "metadata": {},
   "outputs": [],
   "source": [
    "import time\n",
    "import os\n",
    "import sys\n",
    "import copy\n",
    "import time\n",
    "import datetime\n",
    "import random\n",
    "import math\n",
    "import warnings\n",
    "from functools import partial\n",
    "# warnings.filterwarnings('ignore')"
   ]
  },
  {
   "cell_type": "code",
   "execution_count": 3,
   "id": "a6b41a85-783f-4ef9-a21e-0c64a8fa1c2d",
   "metadata": {},
   "outputs": [],
   "source": [
    "import torch\n",
    "import torch.nn.functional as F\n",
    "from torch import nn\n",
    "from torch.utils.data import TensorDataset, DataLoader\n",
    "from torch import Tensor\n",
    "import torch.optim as optim\n",
    "from torch.optim import lr_scheduler\n",
    "import torch.backends.cudnn as cudnn"
   ]
  },
  {
   "cell_type": "code",
   "execution_count": 4,
   "id": "d5d7d9e5-7545-4be8-8f4c-6f74b4adb275",
   "metadata": {},
   "outputs": [],
   "source": [
    "import numpy as np\n",
    "import scipy\n",
    "import seaborn as sns\n",
    "\n",
    "from tqdm.notebook import tqdm, trange"
   ]
  },
  {
   "cell_type": "code",
   "execution_count": 5,
   "id": "fe7a6199-f38b-4d00-8e86-713f32a84e05",
   "metadata": {},
   "outputs": [],
   "source": [
    "sys.path.append(\"../\")"
   ]
  },
  {
   "cell_type": "code",
   "execution_count": 6,
   "id": "92e6101e-cde2-4ed7-a36c-c25cbea54d88",
   "metadata": {},
   "outputs": [],
   "source": [
    "from chaosmining.data_utils import read_formulas, create_simulation_data\n",
    "from chaosmining.simulation.models import MLPRegressor\n",
    "from chaosmining.simulation.functions import abs_argmax_topk\n",
    "from chaosmining.utils import radar_factory"
   ]
  },
  {
   "cell_type": "code",
   "execution_count": 7,
   "id": "8f94e9ef-b5ff-4bf1-9f32-50e871879546",
   "metadata": {},
   "outputs": [],
   "source": [
    "from sklearn.model_selection import train_test_split\n",
    "from sklearn.metrics import mean_absolute_error"
   ]
  },
  {
   "cell_type": "code",
   "execution_count": 8,
   "id": "dcc8d87a-a388-4423-afda-5c8cfa67df9b",
   "metadata": {},
   "outputs": [],
   "source": [
    "from captum.attr import IntegratedGradients, Saliency, DeepLift, FeatureAblation"
   ]
  },
  {
   "cell_type": "code",
   "execution_count": 9,
   "id": "e054f29e-9647-4582-b03a-1ea270715390",
   "metadata": {},
   "outputs": [],
   "source": [
    "import matplotlib\n",
    "# mpl.use('Agg')\n",
    "%matplotlib inline\n",
    "import matplotlib.pyplot as plt\n",
    "from matplotlib import pyplot as plt \n",
    "from matplotlib.colors import ListedColormap\n",
    "\n",
    "matplotlib.rcParams['lines.linewidth'] = 1\n",
    "matplotlib.rcParams['lines.markersize'] = 5\n",
    "plt.rcParams['figure.figsize'] = [4, 4]"
   ]
  },
  {
   "cell_type": "code",
   "execution_count": 10,
   "id": "1004c681-914d-472a-b7a1-19d43e57fe76",
   "metadata": {},
   "outputs": [],
   "source": [
    "import inspect"
   ]
  },
  {
   "cell_type": "code",
   "execution_count": 11,
   "id": "30bb4aba-9744-49c3-8522-ddf474eefb30",
   "metadata": {},
   "outputs": [],
   "source": [
    "def call_with_relevant_args(func, all_args):\n",
    "    func_params = inspect.signature(func).parameters\n",
    "    relevant_args = {key: all_args[key] for key in func_params if key in all_args}\n",
    "    return func(**relevant_args)"
   ]
  },
  {
   "cell_type": "code",
   "execution_count": 483,
   "id": "d8f317cd-1e75-4a4c-b44d-4b8e7c5f4b7e",
   "metadata": {},
   "outputs": [],
   "source": [
    "save_flag = True"
   ]
  },
  {
   "cell_type": "markdown",
   "id": "fecb3965-1d2a-4ba9-90de-86b1201e0ece",
   "metadata": {},
   "source": [
    "# Generate Functions and Data"
   ]
  },
  {
   "cell_type": "code",
   "execution_count": 128,
   "id": "b70fe02d-9ea8-43cb-b160-e69088e910d5",
   "metadata": {},
   "outputs": [],
   "source": [
    "formulas_path = '../data/symbolic_simulation/formula.csv'"
   ]
  },
  {
   "cell_type": "code",
   "execution_count": 129,
   "id": "4f052533-51a6-4a45-a99d-6dd616a38da0",
   "metadata": {},
   "outputs": [],
   "source": [
    "formulas = read_formulas(formulas_path)"
   ]
  },
  {
   "cell_type": "code",
   "execution_count": 385,
   "id": "b2c978cc-c1c3-453d-a268-e97bc87940c2",
   "metadata": {},
   "outputs": [],
   "source": [
    "formula_id = 1\n",
    "seed = 9999\n",
    "test_size = 0.2\n",
    "n_steps = 20"
   ]
  },
  {
   "cell_type": "code",
   "execution_count": 386,
   "id": "68e12b48-435c-4ccd-9f85-2c1ec95e47a7",
   "metadata": {},
   "outputs": [],
   "source": [
    "num_features, function = formulas[formula_id]"
   ]
  },
  {
   "cell_type": "code",
   "execution_count": 387,
   "id": "bd42db5c-aa7e-43a8-a875-fc37f202f9bc",
   "metadata": {},
   "outputs": [
    {
     "name": "stdout",
     "output_type": "stream",
     "text": [
      "X (10000, 201) y true (10000, 1) y noise (10000, 1) intercepts 1 (10000,) derivatives 1 (10000,) integrations 1 (10000,)\n"
     ]
    }
   ],
   "source": [
    "num_noises = 200\n",
    "num_data = 10000\n",
    "X_var = 0.33\n",
    "y_var = 0.01\n",
    "X, y_true, y_noise, intercepts, derivatives, integrations = create_simulation_data(function, num_features, num_noises, num_data, X_var, y_var, n_steps=n_steps)\n",
    "print('X', X.shape, 'y true', y_true.shape, 'y noise', y_noise.shape, \n",
    "      'intercepts', len(intercepts), intercepts[0].shape,\n",
    "      'derivatives', len(derivatives), derivatives[0].shape, \n",
    "      'integrations', len(integrations), integrations[0].shape)"
   ]
  },
  {
   "cell_type": "code",
   "execution_count": 388,
   "id": "cfa446f3-9cfd-4a9e-8cc6-e9741e822af3",
   "metadata": {},
   "outputs": [],
   "source": [
    "intercepts = np.stack(intercepts, axis=1)\n",
    "derivatives = np.stack(derivatives, axis=1)\n",
    "integrations = np.stack(integrations, axis=1)"
   ]
  },
  {
   "cell_type": "code",
   "execution_count": 389,
   "id": "196aedd7-7bcc-440a-968f-444a6fb33a9e",
   "metadata": {},
   "outputs": [],
   "source": [
    "y = y_true + y_noise"
   ]
  },
  {
   "cell_type": "code",
   "execution_count": 390,
   "id": "cb2db11b-a6bb-4811-99e4-92d8d84c4921",
   "metadata": {},
   "outputs": [],
   "source": [
    "X_train, X_test, \\\n",
    "y_train, y_test, \\\n",
    "y_true_train, y_true_test, \\\n",
    "intercepts_train, intercepts_test, \\\n",
    "derivatives_train, derivatives_test, \\\n",
    "integrations_train, integrations_test \\\n",
    "= train_test_split(X, y, y_true, intercepts, derivatives, integrations, test_size=test_size, random_state=seed)"
   ]
  },
  {
   "cell_type": "markdown",
   "id": "a01eb642-7e9f-4884-b33d-5d107495bdfe",
   "metadata": {},
   "source": [
    "# Training and Test a MLP"
   ]
  },
  {
   "cell_type": "code",
   "execution_count": 391,
   "id": "03b69928-b490-4257-8787-aba2ceb8c72d",
   "metadata": {},
   "outputs": [],
   "source": [
    "train_set = TensorDataset(Tensor(X_train), Tensor(y_train))\n",
    "train_loader = DataLoader(train_set, batch_size=y_train.shape[0], shuffle=True)\n",
    "test_set = TensorDataset(Tensor(X_test), Tensor(y_true_test))\n",
    "test_loader = DataLoader(test_set, batch_size=y_test.shape[0])"
   ]
  },
  {
   "cell_type": "code",
   "execution_count": 392,
   "id": "069d51e4-28a0-4c9a-a284-efffb8f5ab80",
   "metadata": {},
   "outputs": [],
   "source": [
    "hidden_layer_sizes = (100,100,100)\n",
    "num_epochs = 1000"
   ]
  },
  {
   "cell_type": "code",
   "execution_count": 393,
   "id": "0e5b067b-3b59-44a3-bd61-0931f28398ca",
   "metadata": {},
   "outputs": [],
   "source": [
    "device = torch.device('cuda:0' if torch.cuda.is_available() else 'cpu')"
   ]
  },
  {
   "cell_type": "code",
   "execution_count": 394,
   "id": "5911ef9a-9822-4656-b389-b01523fa07ef",
   "metadata": {},
   "outputs": [
    {
     "data": {
      "text/plain": [
       "MLPRegressor(\n",
       "  (blocks): ModuleList(\n",
       "    (0): LinearBlock(\n",
       "      (net): Sequential(\n",
       "        (0): Linear(in_features=201, out_features=100, bias=True)\n",
       "        (1): GELU(approximate='none')\n",
       "      )\n",
       "    )\n",
       "    (1): LinearBlock(\n",
       "      (net): Sequential(\n",
       "        (0): Linear(in_features=100, out_features=100, bias=True)\n",
       "        (1): GELU(approximate='none')\n",
       "      )\n",
       "    )\n",
       "    (2): LinearBlock(\n",
       "      (net): Sequential(\n",
       "        (0): Linear(in_features=100, out_features=100, bias=True)\n",
       "        (1): GELU(approximate='none')\n",
       "      )\n",
       "    )\n",
       "  )\n",
       "  (dropout): Dropout(p=0.0, inplace=False)\n",
       "  (project): Linear(in_features=100, out_features=1, bias=True)\n",
       ")"
      ]
     },
     "execution_count": 394,
     "metadata": {},
     "output_type": "execute_result"
    }
   ],
   "source": [
    "model = MLPRegressor(num_features+num_noises, hidden_layer_sizes, p=0.0)\n",
    "model.to(device)\n",
    "model.train()"
   ]
  },
  {
   "cell_type": "code",
   "execution_count": 395,
   "id": "f46068f1-8b8c-4aa5-88b1-7b2d4c982d8a",
   "metadata": {},
   "outputs": [],
   "source": [
    "criterion = nn.MSELoss(reduction='mean')\n",
    "optimizer = torch.optim.Adam(model.parameters(), 0.001)"
   ]
  },
  {
   "cell_type": "code",
   "execution_count": 396,
   "id": "8da5584b-ee82-4ae5-b999-2a335843dead",
   "metadata": {},
   "outputs": [],
   "source": [
    "def train(model, dataloader, num_epochs, optimizer):\n",
    "    pbar = trange(num_epochs, desc='Train', unit='epoch', initial=0, disable=True)\n",
    "    for epoch in pbar:  # loop over the dataset multiple times\n",
    "        running_loss = 0.0\n",
    "        for inputs, targets in dataloader:\n",
    "            inputs = inputs.to(device)\n",
    "            targets = targets.to(device)\n",
    "            # forward pass\n",
    "            outputs = model(inputs)\n",
    "            # defining loss\n",
    "            loss = criterion(outputs, targets)\n",
    "            # zero the parameter gradients\n",
    "            optimizer.zero_grad()\n",
    "            # computing gradients\n",
    "            loss.backward()\n",
    "            # accumulating running loss\n",
    "            running_loss += loss.item()\n",
    "            # updated weights based on computed gradients\n",
    "            optimizer.step()\n",
    "        pbar.set_postfix(loss = '%.3f' % running_loss)\n",
    "    print('train loss:', running_loss)"
   ]
  },
  {
   "cell_type": "code",
   "execution_count": 397,
   "id": "938141f9-cc05-4c59-b614-2e2af62097d0",
   "metadata": {},
   "outputs": [
    {
     "name": "stdout",
     "output_type": "stream",
     "text": [
      "train loss: 1.2339278043782542e-07\n"
     ]
    }
   ],
   "source": [
    "train(model, train_loader, num_epochs, optimizer)"
   ]
  },
  {
   "cell_type": "code",
   "execution_count": 398,
   "id": "42595076-2dd5-4a86-a0bc-5f4cb50b609a",
   "metadata": {},
   "outputs": [],
   "source": [
    "y_pred = model(Tensor(X_test).to(device)).detach().cpu().numpy()"
   ]
  },
  {
   "cell_type": "code",
   "execution_count": 399,
   "id": "1d307ef1-a2c8-41a4-8302-dcc4d5de2aa9",
   "metadata": {},
   "outputs": [
    {
     "name": "stdout",
     "output_type": "stream",
     "text": [
      "Test mean absolute value is 0.14387331954993351\n"
     ]
    }
   ],
   "source": [
    "score = mean_absolute_error(y_pred, y_test)\n",
    "print('Test mean absolute value is', score)"
   ]
  },
  {
   "cell_type": "markdown",
   "id": "6038ddea-bb6f-4613-ae9d-3ad6ab0b2f9f",
   "metadata": {},
   "source": [
    "# Memory and Time"
   ]
  },
  {
   "cell_type": "code",
   "execution_count": 400,
   "id": "4da127a5-b51b-418a-a536-aa37a018ddf5",
   "metadata": {},
   "outputs": [],
   "source": [
    "explainers = ['sa', 'dl', 'ig', 'fa']"
   ]
  },
  {
   "cell_type": "code",
   "execution_count": 401,
   "id": "57cfb750-17e3-4373-a04d-de39e56669d4",
   "metadata": {},
   "outputs": [],
   "source": [
    "times_keeper = []\n",
    "memory_keeper = []"
   ]
  },
  {
   "cell_type": "code",
   "execution_count": 402,
   "id": "634fc6b1-9101-477e-af69-30429f861d3b",
   "metadata": {},
   "outputs": [
    {
     "name": "stderr",
     "output_type": "stream",
     "text": [
      "/home/geshi/captum/captum/_utils/gradient.py:57: UserWarning: Input Tensor 0 did not already require gradients, required_grads has been set automatically.\n",
      "  warnings.warn(\n",
      "/home/geshi/captum/captum/attr/_core/deep_lift.py:304: UserWarning: Setting forward, backward hooks and attributes on non-linear\n",
      "               activations. The hooks and attributes will be removed\n",
      "            after the attribution is finished\n",
      "  warnings.warn(\n"
     ]
    }
   ],
   "source": [
    "if torch.cuda.is_available():\n",
    "    for explainer in explainers:\n",
    "        start_time = time.time()\n",
    "        torch.cuda.reset_peak_memory_stats()\n",
    "\n",
    "        if explainer == 'ig':\n",
    "            xai = IntegratedGradients(model)\n",
    "        elif explainer == 'sa':\n",
    "            xai = Saliency(model)\n",
    "        elif explainer == 'dl':\n",
    "            xai = DeepLift(model)\n",
    "        elif explainer == 'fa':\n",
    "            xai = FeatureAblation(model)\n",
    "        \n",
    "        all_arguments = {'inputs':Tensor(X_test).to(device), 'n_steps':10}\n",
    "        xai_attr_test = call_with_relevant_args(xai.attribute, all_arguments)\n",
    "\n",
    "        max_memory_used = torch.cuda.max_memory_allocated()\n",
    "        time_cost = time.time() - start_time\n",
    "\n",
    "        memory_keeper.append(max_memory_used/10**6)\n",
    "        times_keeper.append(time_cost*1000)"
   ]
  },
  {
   "cell_type": "code",
   "execution_count": 403,
   "id": "638f3db2-2a79-4d10-ae86-7772e6892e48",
   "metadata": {},
   "outputs": [
    {
     "data": {
      "text/plain": [
       "[16.829952, 28.343296, 97.493504, 18.26048]"
      ]
     },
     "execution_count": 403,
     "metadata": {},
     "output_type": "execute_result"
    }
   ],
   "source": [
    "memory_keeper"
   ]
  },
  {
   "cell_type": "code",
   "execution_count": 404,
   "id": "4af8f0b7-2dda-4e02-a530-738987741cbc",
   "metadata": {},
   "outputs": [
    {
     "data": {
      "text/plain": [
       "[17.57073402404785, 33.09822082519531, 164.3691062927246, 66.79654121398926]"
      ]
     },
     "execution_count": 404,
     "metadata": {},
     "output_type": "execute_result"
    }
   ],
   "source": [
    "times_keeper"
   ]
  },
  {
   "cell_type": "markdown",
   "id": "a151d420-f91a-47ed-a89b-a16f8b8fc85b",
   "metadata": {},
   "source": [
    "# Consistency"
   ]
  },
  {
   "cell_type": "code",
   "execution_count": 405,
   "id": "ba5bf572-52f0-44e9-9e2e-978db8d5aa54",
   "metadata": {},
   "outputs": [],
   "source": [
    "avg_corrs = []"
   ]
  },
  {
   "cell_type": "code",
   "execution_count": 406,
   "id": "6811270c-9089-47c2-9f9c-d9c8a7efebb3",
   "metadata": {},
   "outputs": [],
   "source": [
    "for explainer in explainers:\n",
    "    if explainer == 'ig':\n",
    "        xai = IntegratedGradients(model)\n",
    "    elif explainer == 'sa':\n",
    "        xai = Saliency(model)\n",
    "    elif explainer == 'dl':\n",
    "        xai = DeepLift(model)\n",
    "    elif explainer == 'fa':\n",
    "        xai = FeatureAblation(model)\n",
    "    \n",
    "    all_arguments = {'inputs':Tensor(X_test).to(device), 'n_steps':10}\n",
    "    xai_attr_test = call_with_relevant_args(xai.attribute, all_arguments)\n",
    "    abs_xai_attr_test = np.abs(xai_attr_test.detach().cpu().numpy())\n",
    "    mean_abs_xai_attr_test = abs_xai_attr_test.mean(0)\n",
    "    \n",
    "    inds = np.argpartition(-abs_xai_attr_test, num_features, axis=-1)[:,:num_features]\n",
    "    mean_inds = np.argpartition(-mean_abs_xai_attr_test, num_features, axis=-1)[:num_features]\n",
    "    \n",
    "    corrs = []\n",
    "    for ind in inds:\n",
    "        shared = set(mean_inds).intersection(set(ind))\n",
    "        corrs.append(len(shared))\n",
    "    avg_corrs.append(np.mean(corrs))"
   ]
  },
  {
   "cell_type": "code",
   "execution_count": 407,
   "id": "634701a0-73fe-4811-9db5-b6385731137b",
   "metadata": {},
   "outputs": [
    {
     "data": {
      "text/plain": [
       "[0.3605, 0.1905, 0.1925, 0.108]"
      ]
     },
     "execution_count": 407,
     "metadata": {},
     "output_type": "execute_result"
    }
   ],
   "source": [
    "avg_corrs"
   ]
  },
  {
   "cell_type": "markdown",
   "id": "687b8a81-502c-4d8d-b6dd-cba8d0352b03",
   "metadata": {},
   "source": [
    "# plots"
   ]
  },
  {
   "cell_type": "code",
   "execution_count": 408,
   "id": "a591b7a3-56e5-462c-b633-a029a932d614",
   "metadata": {},
   "outputs": [],
   "source": [
    "memories = [\n",
    "    [16.829952, 28.343296, 97.493504, 18.26048],\n",
    "    [16.501248, 28.014592, 97.1648, 17.931776],\n",
    "    [16.172544, 27.685888, 96.836096, 17.603072],\n",
    "    [15.84384, 27.357184, 96.507392, 17.274368],\n",
    "    [15.515136, 27.02848, 96.178688, 16.945664],\n",
    "    [15.194624, 26.699776, 95.849984, 16.891904],\n",
    "    [14.881792, 26.385408, 95.6416, 16.345088],\n",
    "    [14.569984, 26.104832, 95.432704, 16.07168],\n",
    "    [14.257664, 25.824768, 95.22432, 15.799808],\n",
    "    [13.943808, 25.54368, 95.015936, 15.527424],\n",
    "    [13.627904, 25.259008, 94.802944, 15.24992],\n",
    "    [13.313024, 24.976384, 94.592512, 14.976],\n",
    "    [12.99712, 24.691712, 95.422464, 15.702016],\n",
    "    [12.680704, 24.408064, 95.129088, 15.329792],\n",
    "    [11.643392, 22.35392, 92.514816, 13.276672],\n",
    "]"
   ]
  },
  {
   "cell_type": "code",
   "execution_count": 409,
   "id": "fbaac6ee-8d98-4622-97b5-4e708d741b24",
   "metadata": {},
   "outputs": [],
   "source": [
    "times = [\n",
    "    [17.57073402404785, 33.09822082519531, 164.3691062927246, 66.79654121398926],\n",
    "    [17.444372177124023, 32.74846076965332, 164.60132598876953, 67.02136993408203],\n",
    "    [17.5931453704834, 32.86170959472656, 165.26436805725098, 67.16442108154297],\n",
    "    [17.406702041625977, 32.85098075866699, 164.99853134155273, 66.98465347290039],\n",
    "    [17.89236068725586, 33.24103355407715, 164.55912590026855, 67.56782531738281],\n",
    "    [17.357349395751953, 32.87506103515625, 165.3115749359131, 67.66724586486816],\n",
    "    [17.124414443969727, 32.79280662536621, 262.2706890106201, 67.36636161804199],\n",
    "    [17.31085777282715, 33.065080642700195, 258.2216262817383, 70.36113739013672],\n",
    "    [17.3342227935791, 32.450199127197266, 163.5572910308838, 67.78836250305176],\n",
    "    [17.511367797851562, 32.73153305053711, 257.0779323577881, 68.28618049621582],\n",
    "    [16.77250862121582, 31.74304962158203, 159.18993949890137, 68.67241859436035],\n",
    "    [16.808748245239258, 31.521081924438477, 159.9867343902588, 69.24891471862793],\n",
    "    [16.715049743652344, 31.464099884033203, 159.44409370422363, 70.34039497375488],\n",
    "    [16.75891876220703, 31.279802322387695, 158.73265266418457, 69.96011734008789],\n",
    "    [30.460596084594727, 54.06546592712402, 248.71444702148438, 70.21117210388184],    \n",
    "]"
   ]
  },
  {
   "cell_type": "code",
   "execution_count": 410,
   "id": "49a77630-920d-42a5-ad81-18cc207fcb60",
   "metadata": {},
   "outputs": [],
   "source": [
    "consistencies = [\n",
    "    [0.3605, 0.1905, 0.1925, 0.108],\n",
    "    [0.2295, 0.1465, 0.137, 0.0535],\n",
    "    [0.859, 0.621, 0.6155, 0.4815],\n",
    "    [1.0, 0.9575, 0.9785, 0.9575],\n",
    "    [1.0, 0.944, 0.971, 0.943],\n",
    "    [0.8545, 0.577, 0.5625, 0.426],\n",
    "    [1.0185, 0.498, 0.7575, 0.3765],\n",
    "    [1.119, 0.493, 0.769, 0.406],\n",
    "    [2.371, 1.7035, 1.7415, 1.472],\n",
    "    [2.5095, 1.5235, 1.7845, 1.428],\n",
    "    [3.205, 2.03, 2.567, 1.927],\n",
    "    [3.012, 1.948, 2.277, 1.842],\n",
    "    [3.716, 2.688, 3.109, 2.4065],\n",
    "    [4.396, 3.206, 3.8855, 3.1025],\n",
    "    [4.399, 3.1845, 3.726, 2.9995],    \n",
    "]"
   ]
  },
  {
   "cell_type": "code",
   "execution_count": 542,
   "id": "f2457090-c35f-4552-a51e-cb615cd93e80",
   "metadata": {},
   "outputs": [],
   "source": [
    "convergences = [\n",
    "    [1, 1, 1, 1],\n",
    "    [0.83, 0.88, 0.80, 0.89],\n",
    "    [0.67, 0.63, 0.79, 0.76],\n",
    "    [0.99, 0.98, 0.99, 0.99],\n",
    "    [0.97, 0.97, 0.92, 0.94],\n",
    "    [0.59, 0.61, 0.55, 0.59],\n",
    "    [1.91, 1.89, 1.78, 1.79],\n",
    "    [2.43, 2.48, 2.48, 2.42],\n",
    "    [3.39, 3.44, 3.47, 2.91],\n",
    "    [3.4, 3.43, 3.23, 3.13],\n",
    "    [5.27, 5.38, 5.07, 5.11],\n",
    "    [5.37, 5.24, 4.97, 5.80],\n",
    "    [6.29, 6.38, 6.06, 5.69],\n",
    "    [7.1, 7.2, 6.77, 7.05],\n",
    "    [8.46, 8.05, 8.16, 7.61],  \n",
    "]"
   ]
  },
  {
   "cell_type": "markdown",
   "id": "23b916b9-2c60-48a3-aa78-d6d01e21505d",
   "metadata": {},
   "source": [
    "# Plots"
   ]
  },
  {
   "cell_type": "code",
   "execution_count": 484,
   "id": "ab2456a3-ef85-4c69-8522-322a4763fd89",
   "metadata": {},
   "outputs": [],
   "source": [
    "xai_names = ['SA', 'DL', 'IG', 'FA']\n",
    "colors = ['m', 'g', 'b', 'k']"
   ]
  },
  {
   "cell_type": "code",
   "execution_count": 518,
   "id": "05486634-10b0-445e-896b-c0d17b487aa3",
   "metadata": {},
   "outputs": [],
   "source": [
    "def error_bar_plot(names, values, colors, ylabel, errors=None):\n",
    "    # Define the positions of the bars\n",
    "    x_pos = np.arange(len(names))\n",
    "    \n",
    "    # Create the bar plot\n",
    "    fig, ax = plt.subplots(layout='constrained')\n",
    "    if errors is not None:\n",
    "        bars = ax.bar(x_pos, values, yerr=errors, capsize=5, color=colors, edgecolor='black', alpha=0.4, \n",
    "        \terror_kw={'ecolor': 'black', 'elinewidth': 2, 'capsize': 12})\n",
    "    else:\n",
    "        bars = ax.bar(x_pos, values, color=colors, edgecolor='black', alpha=0.4, \n",
    "        \terror_kw={'ecolor': 'black', 'elinewidth': 2, 'capsize': 12})\n",
    "    \n",
    "    # Set the labels for the x-ticks\n",
    "    # ax.set_ylim(0.0, 1.0)\n",
    "    ax.set_xticks(x_pos)\n",
    "    ax.set_xticklabels(names)\n",
    "    ax.tick_params(axis='x', labelsize=12)\n",
    "    ax.tick_params(axis='y', labelsize=12)\n",
    "    \n",
    "    # Add labels and title\n",
    "    ax.set_ylabel(ylabel, fontsize=16)\n",
    "    \n",
    "    # Display the plot\n",
    "    # plt.show()"
   ]
  },
  {
   "cell_type": "markdown",
   "id": "a891b2d2-8fe4-44b0-8b3c-876ea07c8d30",
   "metadata": {},
   "source": [
    "## memory cost"
   ]
  },
  {
   "cell_type": "code",
   "execution_count": 519,
   "id": "f5e13c0d-302e-4607-8b08-6e9e1d18dd80",
   "metadata": {},
   "outputs": [],
   "source": [
    "memories_cost = np.array(memories)\n",
    "# memories_cost /= memories_cost[:,:1]\n",
    "values = memories_cost.mean(0)\n",
    "errors = memories_cost.std(0)"
   ]
  },
  {
   "cell_type": "code",
   "execution_count": 520,
   "id": "4f48f2d9-f192-4cce-869c-22aeb596a10a",
   "metadata": {},
   "outputs": [
    {
     "data": {
      "image/png": "[encoded data removed]",
      "text/plain": [
       "<Figure size 400x400 with 1 Axes>"
      ]
     },
     "metadata": {},
     "output_type": "display_data"
    }
   ],
   "source": [
    "error_bar_plot(xai_names, values, colors, 'Memory Cost', errors)\n",
    "if save_flag:\n",
    "    plt.savefig('../memory.png', dpi=300, bbox_inches='tight')"
   ]
  },
  {
   "cell_type": "markdown",
   "id": "520e6766-919d-4fd2-80c9-76da312a155b",
   "metadata": {},
   "source": [
    "## time cost"
   ]
  },
  {
   "cell_type": "code",
   "execution_count": 521,
   "id": "9c80ad52-a736-446f-a806-f0558942f126",
   "metadata": {},
   "outputs": [],
   "source": [
    "times_cost = np.array(times)\n",
    "# times_cost /= times_cost[:,:1]\n",
    "values = times_cost.mean(0)\n",
    "errors = times_cost.std(0)"
   ]
  },
  {
   "cell_type": "code",
   "execution_count": 522,
   "id": "994653ec-d4e9-4ece-abe4-8e5528349b43",
   "metadata": {},
   "outputs": [
    {
     "data": {
      "image/png": "[encoded data removed]",
      "text/plain": [
       "<Figure size 400x400 with 1 Axes>"
      ]
     },
     "metadata": {},
     "output_type": "display_data"
    }
   ],
   "source": [
    "error_bar_plot(xai_names, values, colors, 'Time Cost', errors)\n",
    "if save_flag:\n",
    "    plt.savefig('../time.png', dpi=300, bbox_inches='tight')"
   ]
  },
  {
   "cell_type": "markdown",
   "id": "431f2498-3de7-4ffa-9dd4-7ac4ba766784",
   "metadata": {},
   "source": [
    "## Consistencies"
   ]
  },
  {
   "cell_type": "code",
   "execution_count": 540,
   "id": "4c827dbf-5f90-4a57-a3dc-cec9ed7b7ee5",
   "metadata": {},
   "outputs": [],
   "source": [
    "consistencies_array = np.array(consistencies)\n",
    "consistencies_array /= consistencies_array[:,:1]\n",
    "values = consistencies_array.mean(0)\n",
    "# errors = consistencies_array.std(0)"
   ]
  },
  {
   "cell_type": "code",
   "execution_count": 541,
   "id": "ed493e06-bc35-4829-855f-73041f9c02e0",
   "metadata": {},
   "outputs": [
    {
     "data": {
      "image/png": "[encoded data removed]",
      "text/plain": [
       "<Figure size 400x400 with 1 Axes>"
      ]
     },
     "metadata": {},
     "output_type": "display_data"
    }
   ],
   "source": [
    "error_bar_plot(xai_names, values, colors, 'Consistency')\n",
    "if save_flag:\n",
    "    plt.savefig('../consistency.png', dpi=300, bbox_inches='tight')"
   ]
  },
  {
   "cell_type": "markdown",
   "id": "155d3368-4b10-40f3-85a1-b0eefbb1450f",
   "metadata": {},
   "source": [
    "# Convergences"
   ]
  },
  {
   "cell_type": "code",
   "execution_count": 543,
   "id": "bf7c4a38-f596-43bb-a306-387bf72a6ebf",
   "metadata": {},
   "outputs": [],
   "source": [
    "convergences_array = np.array(convergences)\n",
    "convergences_array /= convergences_array[:,:1]\n",
    "values = convergences_array.mean(0)\n",
    "# errors = convergences_array.std(0)"
   ]
  },
  {
   "cell_type": "code",
   "execution_count": 544,
   "id": "a962e7ee-c9f0-48d5-8bb8-1d052a12e050",
   "metadata": {},
   "outputs": [
    {
     "data": {
      "image/png": "[encoded data removed]",
      "text/plain": [
       "<Figure size 400x400 with 1 Axes>"
      ]
     },
     "metadata": {},
     "output_type": "display_data"
    }
   ],
   "source": [
    "error_bar_plot(xai_names, values, colors, 'Convergence')\n",
    "if save_flag:\n",
    "    plt.savefig('../convergence.png', dpi=300, bbox_inches='tight')"
   ]
  },
  {
   "cell_type": "code",
   "execution_count": null,
   "id": "f4c90f93-8d28-4db6-91d1-14350a5607de",
   "metadata": {},
   "outputs": [],
   "source": []
  }
 ],
 "metadata": {
  "kernelspec": {
   "display_name": "Python 3 (ipykernel)",
   "language": "python",
   "name": "python3"
  },
  "language_info": {
   "codemirror_mode": {
    "name": "ipython",
    "version": 3
   },
   "file_extension": ".py",
   "mimetype": "text/x-python",
   "name": "python",
   "nbconvert_exporter": "python",
   "pygments_lexer": "ipython3",
   "version": "3.10.12"
  }
 },
 "nbformat": 4,
 "nbformat_minor": 5
}
