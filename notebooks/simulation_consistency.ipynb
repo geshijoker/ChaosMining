{
 "cells": [
  {
   "cell_type": "code",
   "execution_count": 11,
   "id": "27f2becc-f3ca-4f4d-b8fe-d133504c8192",
   "metadata": {},
   "outputs": [],
   "source": [
    "%reload_ext autoreload\n",
    "%reload_ext autoreload"
   ]
  },
  {
   "cell_type": "code",
   "execution_count": 12,
   "id": "8975b501-9d6f-4289-88f2-b196a9388daa",
   "metadata": {},
   "outputs": [],
   "source": [
    "import time\n",
    "import os\n",
    "import sys\n",
    "import copy\n",
    "import time\n",
    "import datetime\n",
    "import random\n",
    "import math\n",
    "import warnings\n",
    "from functools import partial\n",
    "# warnings.filterwarnings('ignore')"
   ]
  },
  {
   "cell_type": "code",
   "execution_count": 13,
   "id": "a6b41a85-783f-4ef9-a21e-0c64a8fa1c2d",
   "metadata": {},
   "outputs": [
    {
     "name": "stderr",
     "output_type": "stream",
     "text": [
      "/home/geshi/.local/lib/python3.10/site-packages/tqdm/auto.py:21: TqdmWarning: IProgress not found. Please update jupyter and ipywidgets. See https://ipywidgets.readthedocs.io/en/stable/user_install.html\n",
      "  from .autonotebook import tqdm as notebook_tqdm\n"
     ]
    }
   ],
   "source": [
    "import torch\n",
    "import torch.nn.functional as F\n",
    "from torch import nn\n",
    "from torch.utils.data import TensorDataset, DataLoader\n",
    "from torch import Tensor\n",
    "import torch.optim as optim\n",
    "from torch.optim import lr_scheduler\n",
    "import torch.backends.cudnn as cudnn"
   ]
  },
  {
   "cell_type": "code",
   "execution_count": 14,
   "id": "d5d7d9e5-7545-4be8-8f4c-6f74b4adb275",
   "metadata": {},
   "outputs": [],
   "source": [
    "import numpy as np\n",
    "import scipy\n",
    "import seaborn as sns\n",
    "\n",
    "from tqdm.notebook import tqdm, trange"
   ]
  },
  {
   "cell_type": "code",
   "execution_count": 15,
   "id": "fe7a6199-f38b-4d00-8e86-713f32a84e05",
   "metadata": {},
   "outputs": [],
   "source": [
    "sys.path.append(\"../\")"
   ]
  },
  {
   "cell_type": "code",
   "execution_count": 16,
   "id": "92e6101e-cde2-4ed7-a36c-c25cbea54d88",
   "metadata": {},
   "outputs": [],
   "source": [
    "from chaosmining.data_utils import read_formulas, create_simulation_data\n",
    "from chaosmining.simulation.models import MLPRegressor\n",
    "from chaosmining.simulation.functions import abs_argmax_topk\n",
    "from chaosmining.utils import radar_factory"
   ]
  },
  {
   "cell_type": "code",
   "execution_count": 17,
   "id": "8f94e9ef-b5ff-4bf1-9f32-50e871879546",
   "metadata": {},
   "outputs": [],
   "source": [
    "from sklearn.model_selection import train_test_split\n",
    "from sklearn.metrics import mean_absolute_error"
   ]
  },
  {
   "cell_type": "code",
   "execution_count": 18,
   "id": "dcc8d87a-a388-4423-afda-5c8cfa67df9b",
   "metadata": {},
   "outputs": [],
   "source": [
    "from captum.attr import IntegratedGradients, Saliency, DeepLift, FeatureAblation"
   ]
  },
  {
   "cell_type": "code",
   "execution_count": 19,
   "id": "e054f29e-9647-4582-b03a-1ea270715390",
   "metadata": {},
   "outputs": [],
   "source": [
    "import matplotlib\n",
    "# mpl.use('Agg')\n",
    "%matplotlib inline\n",
    "import matplotlib.pyplot as plt\n",
    "from matplotlib import pyplot as plt \n",
    "from matplotlib.colors import ListedColormap\n",
    "\n",
    "matplotlib.rcParams['lines.linewidth'] = 1\n",
    "matplotlib.rcParams['lines.markersize'] = 5\n",
    "plt.rcParams['figure.figsize'] = [4, 4]"
   ]
  },
  {
   "cell_type": "markdown",
   "id": "fecb3965-1d2a-4ba9-90de-86b1201e0ece",
   "metadata": {},
   "source": [
    "# Generate Functions and Data"
   ]
  },
  {
   "cell_type": "code",
   "execution_count": 20,
   "id": "b70fe02d-9ea8-43cb-b160-e69088e910d5",
   "metadata": {},
   "outputs": [],
   "source": [
    "formulas_path = '../data/symbolic_simulation/formula.csv'"
   ]
  },
  {
   "cell_type": "code",
   "execution_count": 21,
   "id": "4f052533-51a6-4a45-a99d-6dd616a38da0",
   "metadata": {},
   "outputs": [],
   "source": [
    "formulas = read_formulas(formulas_path)"
   ]
  },
  {
   "cell_type": "code",
   "execution_count": 22,
   "id": "b2c978cc-c1c3-453d-a268-e97bc87940c2",
   "metadata": {},
   "outputs": [],
   "source": [
    "formula_id = 14\n",
    "seed = 9999\n",
    "test_size = 0.2\n",
    "n_steps = 20"
   ]
  },
  {
   "cell_type": "code",
   "execution_count": 23,
   "id": "68e12b48-435c-4ccd-9f85-2c1ec95e47a7",
   "metadata": {},
   "outputs": [],
   "source": [
    "num_features, function = formulas[formula_id]"
   ]
  },
  {
   "cell_type": "code",
   "execution_count": 24,
   "id": "bd42db5c-aa7e-43a8-a875-fc37f202f9bc",
   "metadata": {},
   "outputs": [
    {
     "name": "stdout",
     "output_type": "stream",
     "text": [
      "X (10000, 210) y true (10000, 1) y noise (10000, 1) intercepts 10 (10000,) derivatives 10 (10000,) integrations 10 (10000,)\n"
     ]
    }
   ],
   "source": [
    "num_noises = 200\n",
    "num_data = 10000\n",
    "X_var = 0.33\n",
    "y_var = 0.01\n",
    "X, y_true, y_noise, intercepts, derivatives, integrations = create_simulation_data(function, num_features, num_noises, num_data, X_var, y_var, n_steps=n_steps)\n",
    "print('X', X.shape, 'y true', y_true.shape, 'y noise', y_noise.shape, \n",
    "      'intercepts', len(intercepts), intercepts[0].shape,\n",
    "      'derivatives', len(derivatives), derivatives[0].shape, \n",
    "      'integrations', len(integrations), integrations[0].shape)"
   ]
  },
  {
   "cell_type": "code",
   "execution_count": 25,
   "id": "cfa446f3-9cfd-4a9e-8cc6-e9741e822af3",
   "metadata": {},
   "outputs": [],
   "source": [
    "intercepts = np.stack(intercepts, axis=1)\n",
    "derivatives = np.stack(derivatives, axis=1)\n",
    "integrations = np.stack(integrations, axis=1)"
   ]
  },
  {
   "cell_type": "code",
   "execution_count": 26,
   "id": "196aedd7-7bcc-440a-968f-444a6fb33a9e",
   "metadata": {},
   "outputs": [],
   "source": [
    "y = y_true + y_noise"
   ]
  },
  {
   "cell_type": "code",
   "execution_count": 27,
   "id": "cb2db11b-a6bb-4811-99e4-92d8d84c4921",
   "metadata": {},
   "outputs": [],
   "source": [
    "X_train, X_test, \\\n",
    "y_train, y_test, \\\n",
    "y_true_train, y_true_test, \\\n",
    "intercepts_train, intercepts_test, \\\n",
    "derivatives_train, derivatives_test, \\\n",
    "integrations_train, integrations_test \\\n",
    "= train_test_split(X, y, y_true, intercepts, derivatives, integrations, test_size=test_size, random_state=seed)"
   ]
  },
  {
   "cell_type": "markdown",
   "id": "a01eb642-7e9f-4884-b33d-5d107495bdfe",
   "metadata": {},
   "source": [
    "# Training and Test a MLP"
   ]
  },
  {
   "cell_type": "code",
   "execution_count": 28,
   "id": "03b69928-b490-4257-8787-aba2ceb8c72d",
   "metadata": {},
   "outputs": [],
   "source": [
    "train_set = TensorDataset(Tensor(X_train), Tensor(y_train))\n",
    "train_loader = DataLoader(train_set, batch_size=y_train.shape[0], shuffle=True)\n",
    "test_set = TensorDataset(Tensor(X_test), Tensor(y_true_test))\n",
    "test_loader = DataLoader(test_set, batch_size=y_test.shape[0])"
   ]
  },
  {
   "cell_type": "code",
   "execution_count": 29,
   "id": "069d51e4-28a0-4c9a-a284-efffb8f5ab80",
   "metadata": {},
   "outputs": [],
   "source": [
    "hidden_layer_sizes = (100,100,100)\n",
    "num_epochs = 1000"
   ]
  },
  {
   "cell_type": "code",
   "execution_count": 30,
   "id": "0e5b067b-3b59-44a3-bd61-0931f28398ca",
   "metadata": {},
   "outputs": [],
   "source": [
    "device = torch.device('cuda:0' if torch.cuda.is_available() else 'cpu')"
   ]
  },
  {
   "cell_type": "code",
   "execution_count": 31,
   "id": "5911ef9a-9822-4656-b389-b01523fa07ef",
   "metadata": {},
   "outputs": [
    {
     "data": {
      "text/plain": [
       "MLPRegressor(\n",
       "  (blocks): ModuleList(\n",
       "    (0): LinearBlock(\n",
       "      (net): Sequential(\n",
       "        (0): Linear(in_features=210, out_features=100, bias=True)\n",
       "        (1): GELU(approximate='none')\n",
       "      )\n",
       "    )\n",
       "    (1): LinearBlock(\n",
       "      (net): Sequential(\n",
       "        (0): Linear(in_features=100, out_features=100, bias=True)\n",
       "        (1): GELU(approximate='none')\n",
       "      )\n",
       "    )\n",
       "    (2): LinearBlock(\n",
       "      (net): Sequential(\n",
       "        (0): Linear(in_features=100, out_features=100, bias=True)\n",
       "        (1): GELU(approximate='none')\n",
       "      )\n",
       "    )\n",
       "  )\n",
       "  (dropout): Dropout(p=0.0, inplace=False)\n",
       "  (project): Linear(in_features=100, out_features=1, bias=True)\n",
       ")"
      ]
     },
     "execution_count": 31,
     "metadata": {},
     "output_type": "execute_result"
    }
   ],
   "source": [
    "model = MLPRegressor(num_features+num_noises, hidden_layer_sizes, p=0.0)\n",
    "model.to(device)\n",
    "model.train()"
   ]
  },
  {
   "cell_type": "code",
   "execution_count": 32,
   "id": "f46068f1-8b8c-4aa5-88b1-7b2d4c982d8a",
   "metadata": {},
   "outputs": [],
   "source": [
    "criterion = nn.MSELoss(reduction='mean')\n",
    "optimizer = torch.optim.Adam(model.parameters(), 0.001)"
   ]
  },
  {
   "cell_type": "code",
   "execution_count": 33,
   "id": "8da5584b-ee82-4ae5-b999-2a335843dead",
   "metadata": {},
   "outputs": [],
   "source": [
    "def train(model, dataloader, num_epochs, optimizer):\n",
    "    pbar = trange(num_epochs, desc='Train', unit='epoch', initial=0, disable=True)\n",
    "    for epoch in pbar:  # loop over the dataset multiple times\n",
    "        running_loss = 0.0\n",
    "        for inputs, targets in dataloader:\n",
    "            inputs = inputs.to(device)\n",
    "            targets = targets.to(device)\n",
    "            # forward pass\n",
    "            outputs = model(inputs)\n",
    "            # defining loss\n",
    "            loss = criterion(outputs, targets)\n",
    "            # zero the parameter gradients\n",
    "            optimizer.zero_grad()\n",
    "            # computing gradients\n",
    "            loss.backward()\n",
    "            # accumulating running loss\n",
    "            running_loss += loss.item()\n",
    "            # updated weights based on computed gradients\n",
    "            optimizer.step()\n",
    "        pbar.set_postfix(loss = '%.3f' % running_loss)\n",
    "    print('train loss:', running_loss)"
   ]
  },
  {
   "cell_type": "code",
   "execution_count": 34,
   "id": "938141f9-cc05-4c59-b614-2e2af62097d0",
   "metadata": {},
   "outputs": [
    {
     "name": "stdout",
     "output_type": "stream",
     "text": [
      "train loss: 9.729616579079448e-08\n"
     ]
    }
   ],
   "source": [
    "train(model, train_loader, num_epochs, optimizer)"
   ]
  },
  {
   "cell_type": "code",
   "execution_count": 35,
   "id": "42595076-2dd5-4a86-a0bc-5f4cb50b609a",
   "metadata": {},
   "outputs": [],
   "source": [
    "y_pred = model(Tensor(X_test).to(device)).detach().cpu().numpy()"
   ]
  },
  {
   "cell_type": "code",
   "execution_count": 36,
   "id": "1d307ef1-a2c8-41a4-8302-dcc4d5de2aa9",
   "metadata": {},
   "outputs": [
    {
     "name": "stdout",
     "output_type": "stream",
     "text": [
      "Test mean absolute value is 0.13853020982097342\n"
     ]
    }
   ],
   "source": [
    "score = mean_absolute_error(y_pred, y_test)\n",
    "print('Test mean absolute value is', score)"
   ]
  },
  {
   "cell_type": "code",
   "execution_count": 37,
   "id": "72fa90c7-ce8b-4bd9-866e-feaac9e3fe0e",
   "metadata": {},
   "outputs": [
    {
     "data": {
      "image/png": "[encoded data removed]",
      "text/plain": [
       "<Figure size 400x400 with 1 Axes>"
      ]
     },
     "metadata": {},
     "output_type": "display_data"
    }
   ],
   "source": [
    "plt.scatter(X_test[:,0], y_test, c='wheat', alpha=0.5)\n",
    "plt.scatter(X_test[:,0], y_pred, s=0.1, c='maroon', alpha=1)\n",
    "plt.title(f\"MLP predictions on seudo data, score={score:.4f}\")\n",
    "plt.show()"
   ]
  },
  {
   "cell_type": "code",
   "execution_count": 38,
   "id": "5df00dfd-2750-412c-a3cc-9eebaa4d8ef2",
   "metadata": {},
   "outputs": [
    {
     "data": {
      "text/plain": [
       "(8000, 210)"
      ]
     },
     "execution_count": 38,
     "metadata": {},
     "output_type": "execute_result"
    }
   ],
   "source": [
    "X_train.shape"
   ]
  },
  {
   "cell_type": "markdown",
   "id": "5d687d80-5386-4ce7-874d-c4f72b1ee50f",
   "metadata": {},
   "source": [
    "# Iterative Method"
   ]
  },
  {
   "cell_type": "code",
   "execution_count": 39,
   "id": "b09be602-3c78-4428-9b39-17e82df9edb2",
   "metadata": {},
   "outputs": [],
   "source": [
    "iter_num_noises = [0, 20, 40, 60, 80, 100, 120, 140, 160, 180, 200]\n",
    "iter_inds = []"
   ]
  },
  {
   "cell_type": "code",
   "execution_count": 40,
   "id": "6829df0c-ed0c-4480-9f9e-938dc3f27073",
   "metadata": {},
   "outputs": [
    {
     "name": "stdout",
     "output_type": "stream",
     "text": [
      "X (10000, 10) y true (10000, 1) y noise (10000, 1) intercepts 10 (10000,) derivatives 10 (10000,) integrations 10 (10000,)\n",
      "train loss: 0.0002424947451800108\n",
      "X (10000, 30) y true (10000, 1) y noise (10000, 1) intercepts 10 (10000,) derivatives 10 (10000,) integrations 10 (10000,)\n"
     ]
    },
    {
     "name": "stderr",
     "output_type": "stream",
     "text": [
      "/home/geshi/captum/captum/_utils/gradient.py:57: UserWarning: Input Tensor 0 did not already require gradients, required_grads has been set automatically.\n",
      "  warnings.warn(\n"
     ]
    },
    {
     "name": "stdout",
     "output_type": "stream",
     "text": [
      "train loss: 0.0004070638387929648\n",
      "X (10000, 50) y true (10000, 1) y noise (10000, 1) intercepts 10 (10000,) derivatives 10 (10000,) integrations 10 (10000,)\n",
      "train loss: 0.0003766559821087867\n",
      "X (10000, 70) y true (10000, 1) y noise (10000, 1) intercepts 10 (10000,) derivatives 10 (10000,) integrations 10 (10000,)\n",
      "train loss: 0.001072294544428587\n",
      "X (10000, 90) y true (10000, 1) y noise (10000, 1) intercepts 10 (10000,) derivatives 10 (10000,) integrations 10 (10000,)\n",
      "train loss: 0.0005715130246244371\n",
      "X (10000, 110) y true (10000, 1) y noise (10000, 1) intercepts 10 (10000,) derivatives 10 (10000,) integrations 10 (10000,)\n",
      "train loss: 0.00030578943551518023\n",
      "X (10000, 130) y true (10000, 1) y noise (10000, 1) intercepts 10 (10000,) derivatives 10 (10000,) integrations 10 (10000,)\n",
      "train loss: 0.00012598681496456265\n",
      "X (10000, 150) y true (10000, 1) y noise (10000, 1) intercepts 10 (10000,) derivatives 10 (10000,) integrations 10 (10000,)\n",
      "train loss: 2.319844497833401e-05\n",
      "X (10000, 170) y true (10000, 1) y noise (10000, 1) intercepts 10 (10000,) derivatives 10 (10000,) integrations 10 (10000,)\n",
      "train loss: 1.5029896530904807e-05\n",
      "X (10000, 190) y true (10000, 1) y noise (10000, 1) intercepts 10 (10000,) derivatives 10 (10000,) integrations 10 (10000,)\n",
      "train loss: 1.8163560753237107e-06\n",
      "X (10000, 210) y true (10000, 1) y noise (10000, 1) intercepts 10 (10000,) derivatives 10 (10000,) integrations 10 (10000,)\n",
      "train loss: 6.843640107945248e-07\n"
     ]
    }
   ],
   "source": [
    "for num_noises in iter_num_noises:\n",
    "    reduce_rate = 0.8\n",
    "    best_score = 10\n",
    "    num_cur_features = num_features+num_noises\n",
    "\n",
    "    X, y_true, y_noise, intercepts, derivatives, integrations = \\\n",
    "    create_simulation_data(function, num_features, num_noises, num_data, X_var, y_var, n_steps=n_steps)\n",
    "    print('X', X.shape, 'y true', y_true.shape, 'y noise', y_noise.shape, \n",
    "          'intercepts', len(intercepts), intercepts[0].shape,\n",
    "          'derivatives', len(derivatives), derivatives[0].shape, \n",
    "          'integrations', len(integrations), integrations[0].shape)\n",
    "\n",
    "    intercepts = np.stack(intercepts, axis=1)\n",
    "    derivatives = np.stack(derivatives, axis=1)\n",
    "    integrations = np.stack(integrations, axis=1)\n",
    "    y = y_true + y_noise\n",
    "\n",
    "    X_train, X_test, \\\n",
    "    y_train, y_test, \\\n",
    "    y_true_train, y_true_test, \\\n",
    "    intercepts_train, intercepts_test, \\\n",
    "    derivatives_train, derivatives_test, \\\n",
    "    integrations_train, integrations_test \\\n",
    "    = train_test_split(X, y, y_true, intercepts, derivatives, integrations, test_size=test_size, random_state=seed)\n",
    "\n",
    "    train_set = TensorDataset(Tensor(X_train), Tensor(y_train))\n",
    "    train_loader = DataLoader(train_set, batch_size=y_train.shape[0], shuffle=True)\n",
    "    test_set = TensorDataset(Tensor(X_test), Tensor(y_true_test))\n",
    "    test_loader = DataLoader(test_set, batch_size=y_test.shape[0])\n",
    "\n",
    "    model = MLPRegressor(num_cur_features, hidden_layer_sizes, p=0.0)\n",
    "    model.to(device)\n",
    "    model.train()\n",
    "\n",
    "    criterion = nn.MSELoss(reduction='mean')\n",
    "    optimizer = torch.optim.Adam(model.parameters(), 0.001)\n",
    "    train(model, train_loader, num_epochs, optimizer)\n",
    "\n",
    "    model.eval()\n",
    "    y_pred = model(Tensor(X_test).to(device)).detach().cpu().numpy()\n",
    "\n",
    "    xai = Saliency(model)\n",
    "    # xai = DeepLift(model)\n",
    "    # xai = FeatureAblation(model)\n",
    "    # xai = IntegratedGradients(model)\n",
    "\n",
    "    xai_attr_test = xai.attribute(Tensor(X_test).to(device))\n",
    "    abs_xai_attr_test = np.abs(xai_attr_test.detach().cpu().numpy()).mean(0)\n",
    "    inds = np.argpartition(-abs_xai_attr_test, num_features-1)[:num_features]\n",
    "    iter_inds.append(inds)"
   ]
  },
  {
   "cell_type": "code",
   "execution_count": 43,
   "id": "eb118d19-63d4-484a-845e-2dd8e2be49bb",
   "metadata": {},
   "outputs": [
    {
     "data": {
      "text/plain": [
       "[array([0, 1, 2, 3, 4, 5, 6, 7, 8, 9]),\n",
       " array([8, 1, 2, 3, 4, 0, 6, 7, 5, 9]),\n",
       " array([ 8,  1,  2,  3,  4,  0,  6,  7,  9, 48]),\n",
       " array([ 6,  0,  2,  3,  1,  4,  7,  9, 55,  8]),\n",
       " array([ 8,  0,  2,  3,  4,  1,  6,  7,  9, 59]),\n",
       " array([ 9,  8,  2,  3,  4,  1,  6,  7,  0, 17]),\n",
       " array([ 0,  6,  2,  1,  7,  4,  3, 72, 86, 67]),\n",
       " array([  1,   0,   2,   3,   4,   7,   6,  37,   8, 134]),\n",
       " array([  1,   0,   2,   3,   6,   4,   7, 144,  88, 137]),\n",
       " array([149,   6,   2,   3,   4,   0,   1,   7,  95,  41]),\n",
       " array([ 6,  1,  2,  3,  4,  0,  7, 97, 25, 98])]"
      ]
     },
     "execution_count": 43,
     "metadata": {},
     "output_type": "execute_result"
    }
   ],
   "source": [
    "iter_inds"
   ]
  },
  {
   "cell_type": "code",
   "execution_count": null,
   "id": "53df8305-ab2d-4fc0-b2bd-00b0fd55041c",
   "metadata": {},
   "outputs": [],
   "source": []
  }
 ],
 "metadata": {
  "kernelspec": {
   "display_name": "Python 3 (ipykernel)",
   "language": "python",
   "name": "python3"
  },
  "language_info": {
   "codemirror_mode": {
    "name": "ipython",
    "version": 3
   },
   "file_extension": ".py",
   "mimetype": "text/x-python",
   "name": "python",
   "nbconvert_exporter": "python",
   "pygments_lexer": "ipython3",
   "version": "3.10.12"
  }
 },
 "nbformat": 4,
 "nbformat_minor": 5
}
