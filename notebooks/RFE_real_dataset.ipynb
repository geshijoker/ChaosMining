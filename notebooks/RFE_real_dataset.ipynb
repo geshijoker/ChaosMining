{
 "cells": [
  {
   "cell_type": "code",
   "execution_count": 1,
   "id": "27f2becc-f3ca-4f4d-b8fe-d133504c8192",
   "metadata": {},
   "outputs": [],
   "source": [
    "%reload_ext autoreload\n",
    "%reload_ext autoreload"
   ]
  },
  {
   "cell_type": "code",
   "execution_count": 2,
   "id": "8975b501-9d6f-4289-88f2-b196a9388daa",
   "metadata": {},
   "outputs": [],
   "source": [
    "import time\n",
    "import os\n",
    "import sys\n",
    "import copy\n",
    "import time\n",
    "import datetime\n",
    "import random\n",
    "import math\n",
    "import warnings\n",
    "from functools import partial\n",
    "# warnings.filterwarnings('ignore')"
   ]
  },
  {
   "cell_type": "code",
   "execution_count": 3,
   "id": "a6b41a85-783f-4ef9-a21e-0c64a8fa1c2d",
   "metadata": {},
   "outputs": [],
   "source": [
    "import torch\n",
    "import torch.nn.functional as F\n",
    "from torch import nn\n",
    "from torch.utils.data import TensorDataset, DataLoader\n",
    "from torch import Tensor\n",
    "import torch.optim as optim\n",
    "from torch.optim import lr_scheduler\n",
    "import torch.backends.cudnn as cudnn"
   ]
  },
  {
   "cell_type": "code",
   "execution_count": 4,
   "id": "d5d7d9e5-7545-4be8-8f4c-6f74b4adb275",
   "metadata": {},
   "outputs": [],
   "source": [
    "import numpy as np\n",
    "import scipy\n",
    "import seaborn as sns\n",
    "import pandas as pd\n",
    "from tqdm.notebook import tqdm, trange"
   ]
  },
  {
   "cell_type": "code",
   "execution_count": 5,
   "id": "fe7a6199-f38b-4d00-8e86-713f32a84e05",
   "metadata": {},
   "outputs": [],
   "source": [
    "sys.path.append(\"../\")"
   ]
  },
  {
   "cell_type": "code",
   "execution_count": 6,
   "id": "92e6101e-cde2-4ed7-a36c-c25cbea54d88",
   "metadata": {},
   "outputs": [],
   "source": [
    "from chaosmining.data_utils import read_formulas, create_simulation_data\n",
    "from chaosmining.simulation.models import MLPRegressor\n",
    "from chaosmining.simulation.functions import abs_argmax_topk\n",
    "from chaosmining.utils import radar_factory"
   ]
  },
  {
   "cell_type": "code",
   "execution_count": 358,
   "id": "8f94e9ef-b5ff-4bf1-9f32-50e871879546",
   "metadata": {},
   "outputs": [],
   "source": [
    "from sklearn.model_selection import train_test_split\n",
    "from sklearn.metrics import log_loss, precision_score, recall_score, accuracy_score, roc_curve, auc, balanced_accuracy_score"
   ]
  },
  {
   "cell_type": "code",
   "execution_count": 8,
   "id": "dcc8d87a-a388-4423-afda-5c8cfa67df9b",
   "metadata": {},
   "outputs": [],
   "source": [
    "from captum.attr import IntegratedGradients, Saliency, DeepLift, FeatureAblation"
   ]
  },
  {
   "cell_type": "code",
   "execution_count": 9,
   "id": "e054f29e-9647-4582-b03a-1ea270715390",
   "metadata": {},
   "outputs": [],
   "source": [
    "import matplotlib\n",
    "# mpl.use('Agg')\n",
    "%matplotlib inline\n",
    "import matplotlib.pyplot as plt\n",
    "from matplotlib import pyplot as plt \n",
    "from matplotlib.colors import ListedColormap\n",
    "\n",
    "matplotlib.rcParams['lines.linewidth'] = 1\n",
    "matplotlib.rcParams['lines.markersize'] = 5\n",
    "plt.rcParams['figure.figsize'] = [4, 4]"
   ]
  },
  {
   "cell_type": "markdown",
   "id": "fecb3965-1d2a-4ba9-90de-86b1201e0ece",
   "metadata": {},
   "source": [
    "# Santander customer dataset"
   ]
  },
  {
   "cell_type": "code",
   "execution_count": 10,
   "id": "b70fe02d-9ea8-43cb-b160-e69088e910d5",
   "metadata": {},
   "outputs": [],
   "source": [
    "house_train_path = '../data/house_prices_advanced_regression/train.csv'\n",
    "house_test_path = '../data/house_prices_advanced_regression/test.csv'"
   ]
  },
  {
   "cell_type": "code",
   "execution_count": 13,
   "id": "09d5cdae-c440-4455-862a-d6fd913b5b06",
   "metadata": {},
   "outputs": [],
   "source": [
    "customer_train_path = '../data/santander_customer_satisfaction/train.csv'\n",
    "customer_test_path = '../data/santander_customer_satisfaction/test.csv'\n",
    "sample_path = '../data/santander_customer_satisfaction/sample_submission.csv'"
   ]
  },
  {
   "cell_type": "code",
   "execution_count": 14,
   "id": "f911d116-6609-48c7-bf94-416b126024ea",
   "metadata": {},
   "outputs": [],
   "source": [
    "train  = pd.read_csv(customer_train_path,index_col=0)\n",
    "test   = pd.read_csv(customer_test_path, index_col=0)\n",
    "sample = pd.read_csv(sample_path)"
   ]
  },
  {
   "cell_type": "code",
   "execution_count": 15,
   "id": "43c15cf3-727d-423b-bb96-c987cb746af4",
   "metadata": {},
   "outputs": [
    {
     "data": {
      "text/plain": [
       "0        0\n",
       "1        0\n",
       "2        0\n",
       "3        0\n",
       "4        0\n",
       "        ..\n",
       "75813    0\n",
       "75814    0\n",
       "75815    0\n",
       "75816    0\n",
       "75817    0\n",
       "Name: TARGET, Length: 75818, dtype: int64"
      ]
     },
     "execution_count": 15,
     "metadata": {},
     "output_type": "execute_result"
    }
   ],
   "source": [
    "sample['TARGET']"
   ]
  },
  {
   "cell_type": "code",
   "execution_count": 16,
   "id": "6d8c2a6f-5b39-4659-a272-7d0c7c16e097",
   "metadata": {},
   "outputs": [
    {
     "data": {
      "text/plain": [
       "int64      259\n",
       "float64    111\n",
       "Name: count, dtype: int64"
      ]
     },
     "execution_count": 16,
     "metadata": {},
     "output_type": "execute_result"
    }
   ],
   "source": [
    "train.dtypes.value_counts()"
   ]
  },
  {
   "cell_type": "code",
   "execution_count": 17,
   "id": "68203886-7eed-460f-a05a-d2934bc88257",
   "metadata": {},
   "outputs": [
    {
     "data": {
      "text/plain": [
       "False"
      ]
     },
     "execution_count": 17,
     "metadata": {},
     "output_type": "execute_result"
    }
   ],
   "source": [
    "train.isnull().values.any()"
   ]
  },
  {
   "cell_type": "code",
   "execution_count": 18,
   "id": "dc93e9a9-f7c7-458e-87fb-d07c66120e96",
   "metadata": {},
   "outputs": [
    {
     "data": {
      "text/plain": [
       "var3                             208\n",
       "var15                            100\n",
       "ind_var1_0                         2\n",
       "ind_var1                           2\n",
       "ind_var2_0                         1\n",
       "                                ... \n",
       "num_var45_ult3                   172\n",
       "saldo_var2_ult1                    1\n",
       "saldo_medio_var13_medio_hace3      1\n",
       "saldo_medio_var13_medio_ult1       3\n",
       "TARGET                             2\n",
       "Length: 259, dtype: int64"
      ]
     },
     "execution_count": 18,
     "metadata": {},
     "output_type": "execute_result"
    }
   ],
   "source": [
    "train.select_dtypes(include=['int64']).nunique()"
   ]
  },
  {
   "cell_type": "markdown",
   "id": "2c98b2f9-f170-415b-8cc6-d15eb70f0fed",
   "metadata": {},
   "source": [
    "a good many of the integer features have one single value. Such columns have zero variance and thus have no predictive value, In https://www.kaggle.com/code/carlmcbrideellis/tabular-classification-with-neural-networks-keras/notebook they drop these columns from the train, as well as the test data to maintain consistency."
   ]
  },
  {
   "cell_type": "code",
   "execution_count": 19,
   "id": "ef8f841a-e7d8-42eb-aa26-e0ad49c8c5b6",
   "metadata": {},
   "outputs": [],
   "source": [
    "features_to_drop = train.nunique()\n",
    "features_to_drop = features_to_drop.loc[features_to_drop.values==1].index\n",
    "# now drop these columns from both the training and the test datasets\n",
    "train = train.drop(features_to_drop,axis=1)\n",
    "test  = test.drop(features_to_drop,axis=1)"
   ]
  },
  {
   "cell_type": "code",
   "execution_count": 98,
   "id": "5702a14b-e2a2-4001-b31a-3017549a6315",
   "metadata": {},
   "outputs": [
    {
     "data": {
      "text/plain": [
       "int64      225\n",
       "float64    111\n",
       "Name: count, dtype: int64"
      ]
     },
     "execution_count": 98,
     "metadata": {},
     "output_type": "execute_result"
    }
   ],
   "source": [
    "train.dtypes.value_counts()"
   ]
  },
  {
   "cell_type": "code",
   "execution_count": 20,
   "id": "88886cbe-5e6d-4f72-b4e0-6191b75b86d7",
   "metadata": {},
   "outputs": [],
   "source": [
    "X = train.iloc[:,:-1]\n",
    "y = train['TARGET']"
   ]
  },
  {
   "cell_type": "code",
   "execution_count": 29,
   "id": "7cfeeda7-dacc-49f3-86cd-27ac922929ee",
   "metadata": {},
   "outputs": [],
   "source": [
    "from imblearn.under_sampling import RandomUnderSampler"
   ]
  },
  {
   "cell_type": "code",
   "execution_count": 89,
   "id": "99183f88-694c-41a7-9ea2-1437fc27b025",
   "metadata": {},
   "outputs": [],
   "source": [
    "rus = RandomUnderSampler(random_state=42)\n",
    "X_resampled, y_resampled = rus.fit_resample(X, y)\n",
    "X_resampled = X_resampled.to_numpy()\n",
    "y_resampled = y_resampled.to_numpy().reshape(y_resampled.shape[0],-1)"
   ]
  },
  {
   "cell_type": "code",
   "execution_count": 227,
   "id": "c9b1108e-d836-4a4a-9ada-55e10562d51e",
   "metadata": {},
   "outputs": [],
   "source": [
    "from sklearn.model_selection import train_test_split\n",
    "X_train, X_test, y_train, y_test = train_test_split(X_resampled, y_resampled, \n",
    "                                                  train_size=0.8,\n",
    "                                                  test_size=0.2, \n",
    "                                                  random_state=42, \n",
    "                                                  shuffle=True)"
   ]
  },
  {
   "cell_type": "code",
   "execution_count": 228,
   "id": "95905411-3370-42f5-8d11-b6e8391b0cfc",
   "metadata": {},
   "outputs": [],
   "source": [
    "from sklearn.preprocessing import MinMaxScaler\n",
    "scaler  = MinMaxScaler()\n",
    "X_train = scaler.fit_transform(X_train)\n",
    "X_test   = scaler.transform(X_test)\n",
    "# test    = scaler.transform(test)"
   ]
  },
  {
   "cell_type": "markdown",
   "id": "a01eb642-7e9f-4884-b33d-5d107495bdfe",
   "metadata": {},
   "source": [
    "# Training and Test a MLP"
   ]
  },
  {
   "cell_type": "code",
   "execution_count": 346,
   "id": "03b69928-b490-4257-8787-aba2ceb8c72d",
   "metadata": {},
   "outputs": [],
   "source": [
    "train_set = TensorDataset(Tensor(X_train), Tensor(y_train))\n",
    "train_loader = DataLoader(train_set, batch_size=1000, shuffle=True)\n",
    "test_set = TensorDataset(Tensor(X_test), Tensor(y_test))\n",
    "test_loader = DataLoader(test_set, batch_size=y_test.shape[0])"
   ]
  },
  {
   "cell_type": "code",
   "execution_count": 347,
   "id": "069d51e4-28a0-4c9a-a284-efffb8f5ab80",
   "metadata": {},
   "outputs": [],
   "source": [
    "hidden_layer_sizes = (100,100,100)\n",
    "num_epochs = 500"
   ]
  },
  {
   "cell_type": "code",
   "execution_count": 348,
   "id": "6c72134c-cf77-4d74-954a-5f47e48c0203",
   "metadata": {},
   "outputs": [],
   "source": [
    "device = torch.device('cuda:1' if torch.cuda.is_available() else 'cpu')\n",
    "device = 'cpu'"
   ]
  },
  {
   "cell_type": "code",
   "execution_count": 349,
   "id": "5911ef9a-9822-4656-b389-b01523fa07ef",
   "metadata": {},
   "outputs": [],
   "source": [
    "from typing import List\n",
    "\n",
    "class LinearBlock(nn.Module):\n",
    "    def __init__(self, in_channels: int, out_channels: int):\n",
    "        super().__init__()\n",
    "        self.net = nn.Sequential(\n",
    "            nn.Linear(in_channels, out_channels),\n",
    "            nn.ReLU(),\n",
    "        )\n",
    "\n",
    "    def forward(self, x: Tensor)-> Tensor:\n",
    "        x = self.net(x)\n",
    "        return x\n",
    "    \n",
    "class MLPClassifier(nn.Module):\n",
    "    def __init__(self, in_channels: int, sizes: List[int], p: float=0.0):\n",
    "        super().__init__()\n",
    "        self.blocks = nn.ModuleList([\n",
    "            LinearBlock(in_channels, sizes[0]),\n",
    "            *[LinearBlock(sizes[i], sizes[i+1]) for i in range(len(sizes)-1)]\n",
    "        ])\n",
    "        self.dropout = nn.Dropout(p)\n",
    "        self.project = nn.Sequential(\n",
    "            nn.Linear(sizes[-1], 1),\n",
    "            nn.Sigmoid()\n",
    "        )\n",
    "    def forward(self, x: Tensor)-> Tensor:\n",
    "        for block in self.blocks:\n",
    "            x = block(x)\n",
    "        x = self.dropout(x)\n",
    "        x = self.project(x)\n",
    "        return x"
   ]
  },
  {
   "cell_type": "code",
   "execution_count": 350,
   "id": "4c9dfcc9-54e6-42cb-9c81-3b4cbd9e7550",
   "metadata": {},
   "outputs": [
    {
     "data": {
      "text/plain": [
       "MLPClassifier(\n",
       "  (blocks): ModuleList(\n",
       "    (0): LinearBlock(\n",
       "      (net): Sequential(\n",
       "        (0): Linear(in_features=335, out_features=100, bias=True)\n",
       "        (1): ReLU()\n",
       "      )\n",
       "    )\n",
       "    (1-2): 2 x LinearBlock(\n",
       "      (net): Sequential(\n",
       "        (0): Linear(in_features=100, out_features=100, bias=True)\n",
       "        (1): ReLU()\n",
       "      )\n",
       "    )\n",
       "  )\n",
       "  (dropout): Dropout(p=0.0, inplace=False)\n",
       "  (project): Sequential(\n",
       "    (0): Linear(in_features=100, out_features=1, bias=True)\n",
       "    (1): Sigmoid()\n",
       "  )\n",
       ")"
      ]
     },
     "execution_count": 350,
     "metadata": {},
     "output_type": "execute_result"
    }
   ],
   "source": [
    "model = MLPClassifier(X_train.shape[-1], hidden_layer_sizes, p=0.0)\n",
    "model.to(device)\n",
    "model.train()"
   ]
  },
  {
   "cell_type": "code",
   "execution_count": 351,
   "id": "f46068f1-8b8c-4aa5-88b1-7b2d4c982d8a",
   "metadata": {},
   "outputs": [],
   "source": [
    "# criterion = nn.MSELoss(reduction='mean')\n",
    "criterion = nn.BCELoss(reduction='mean')\n",
    "optimizer = torch.optim.Adam(model.parameters(), 0.001)"
   ]
  },
  {
   "cell_type": "code",
   "execution_count": 352,
   "id": "8da5584b-ee82-4ae5-b999-2a335843dead",
   "metadata": {},
   "outputs": [],
   "source": [
    "def train(model, dataloader, num_epochs, optimizer):\n",
    "    pbar = trange(num_epochs, desc='Train', unit='epoch', initial=0, disable=False)\n",
    "    for epoch in pbar:  # loop over the dataset multiple times\n",
    "        running_loss = 0.0\n",
    "        for inputs, targets in dataloader:\n",
    "            # zero the parameter gradients\n",
    "            optimizer.zero_grad()\n",
    "            inputs = inputs.to(device)\n",
    "            targets = targets.to(device)\n",
    "            # forward pass\n",
    "            outputs = model(inputs)\n",
    "            # defining loss\n",
    "            # print(outputs.dtype,targets.dtype)\n",
    "            # print(outputs.shape,targets.shape)\n",
    "            # print(outputs[0],targets[0])\n",
    "            loss = criterion(outputs, targets)\n",
    "\n",
    "            # computing gradients\n",
    "            loss.backward()\n",
    "            # accumulating running loss\n",
    "            running_loss += loss.item()\n",
    "            # updated weights based on computed gradients\n",
    "            optimizer.step()\n",
    "        pbar.set_postfix(loss = '%.3f' % running_loss)\n",
    "        # print(loss.item())\n",
    "    print('train loss:', running_loss)"
   ]
  },
  {
   "cell_type": "code",
   "execution_count": 353,
   "id": "7cd13aea-b56a-4a19-a0d5-8328781ee487",
   "metadata": {},
   "outputs": [
    {
     "data": {
      "application/vnd.jupyter.widget-view+json": {
       "model_id": "867f67d9d2ca4e719abbfd3b1e6b6323",
       "version_major": 2,
       "version_minor": 0
      },
      "text/plain": [
       "Train:   0%|          | 0/500 [00:00<?, ?epoch/s]"
      ]
     },
     "metadata": {},
     "output_type": "display_data"
    },
    {
     "name": "stdout",
     "output_type": "stream",
     "text": [
      "train loss: 1.6411129534244537\n"
     ]
    }
   ],
   "source": [
    "train(model, train_loader, num_epochs, optimizer)"
   ]
  },
  {
   "cell_type": "code",
   "execution_count": 375,
   "id": "42595076-2dd5-4a86-a0bc-5f4cb50b609a",
   "metadata": {},
   "outputs": [],
   "source": [
    "y_pred = model(Tensor(X_test).to(device)).detach().cpu().numpy()"
   ]
  },
  {
   "cell_type": "code",
   "execution_count": 376,
   "id": "30a2f6c9-d3ea-41a5-b62f-409d574b8b78",
   "metadata": {},
   "outputs": [],
   "source": [
    "y_test =y_test.astype(int)"
   ]
  },
  {
   "cell_type": "code",
   "execution_count": 377,
   "id": "1d307ef1-a2c8-41a4-8302-dcc4d5de2aa9",
   "metadata": {},
   "outputs": [
    {
     "name": "stdout",
     "output_type": "stream",
     "text": [
      "Test auc is 0.7596952143007175\n"
     ]
    }
   ],
   "source": [
    "fpr, tpr, thresholds = roc_curve(y_test,y_pred)\n",
    "print('Test auc is', auc(fpr, tpr))"
   ]
  },
  {
   "cell_type": "code",
   "execution_count": 378,
   "id": "4f53a62e-c50b-4311-94bf-755be98e25ec",
   "metadata": {},
   "outputs": [
    {
     "data": {
      "text/plain": [
       "0.7250737919674541"
      ]
     },
     "execution_count": 378,
     "metadata": {},
     "output_type": "execute_result"
    }
   ],
   "source": [
    "balanced_accuracy_score(y_test,np.around(y_pred))"
   ]
  },
  {
   "cell_type": "code",
   "execution_count": 268,
   "id": "80285ff8-b7c1-4ed0-91e3-c9d7794b400e",
   "metadata": {},
   "outputs": [],
   "source": [
    "y_train_pred = model(Tensor(X_train[0:1]).to(device))"
   ]
  },
  {
   "cell_type": "code",
   "execution_count": 289,
   "id": "57dfa8d7-b126-4822-a29d-ffc7da238fdb",
   "metadata": {},
   "outputs": [
    {
     "name": "stdout",
     "output_type": "stream",
     "text": [
      "Train auc is 0.8424127457992557\n"
     ]
    }
   ],
   "source": [
    "fpr, tpr, thresholds =  roc_curve(y_train, y_train_pred)\n",
    "print('Train auc is', auc(fpr, tpr))"
   ]
  },
  {
   "cell_type": "markdown",
   "id": "5d687d80-5386-4ce7-874d-c4f72b1ee50f",
   "metadata": {},
   "source": [
    "# Iterative Method"
   ]
  },
  {
   "cell_type": "code",
   "execution_count": 304,
   "id": "8456b7ff-6f7b-41e4-a8a7-2cf0386e5481",
   "metadata": {},
   "outputs": [],
   "source": []
  },
  {
   "cell_type": "code",
   "execution_count": 473,
   "id": "fe01570d-aba7-4745-8bb5-2b74a748aff8",
   "metadata": {},
   "outputs": [
    {
     "name": "stdout",
     "output_type": "stream",
     "text": [
      "Saliency\n",
      "(4812, 335)\n"
     ]
    },
    {
     "data": {
      "application/vnd.jupyter.widget-view+json": {
       "model_id": "dd50fa2fc66a4d52aece49de97ffb3fc",
       "version_major": 2,
       "version_minor": 0
      },
      "text/plain": [
       "Train:   0%|          | 0/500 [00:00<?, ?epoch/s]"
      ]
     },
     "metadata": {},
     "output_type": "display_data"
    },
    {
     "name": "stdout",
     "output_type": "stream",
     "text": [
      "train loss: 0.38576629757881165\n",
      "Test auc is 0.7743527311319192\n",
      "Test ACC is 0.7215417270084128\n",
      "num_remove 66\n",
      "inds (66,)\n",
      "269\n",
      "(269,)\n",
      "(66,)\n",
      "[ 63 231 168 329 158 173 174 325 175 323 322 178 319 317 149 316 315 182\n",
      " 146 184 185 287 186 190  24 194 197 132 131 130 198 123 122 278  34 200\n",
      " 276 206 208 109 107  41  42 215 218 219 101 100 221  94  93 226 228  83\n",
      "  82  55 237 239  66  65  64 163 222 284  29 106]\n",
      "(4812, 269)\n"
     ]
    },
    {
     "name": "stderr",
     "output_type": "stream",
     "text": [
      "/home/zwkan/ChaosMining/src/captum/captum/_utils/gradient.py:57: UserWarning: Input Tensor 0 did not already require gradients, required_grads has been set automatically.\n",
      "  warnings.warn(\n"
     ]
    },
    {
     "data": {
      "application/vnd.jupyter.widget-view+json": {
       "model_id": "13e71155f3ec4526b00663dab500228e",
       "version_major": 2,
       "version_minor": 0
      },
      "text/plain": [
       "Train:   0%|          | 0/500 [00:00<?, ?epoch/s]"
      ]
     },
     "metadata": {},
     "output_type": "display_data"
    },
    {
     "name": "stdout",
     "output_type": "stream",
     "text": [
      "train loss: 0.3938729763031006\n",
      "Test auc is 0.7747976939319234\n",
      "Test ACC is 0.7142813712592724\n",
      "num_remove 53\n",
      "inds (53,)\n",
      "216\n",
      "(227,)\n",
      "(53,)\n",
      "[258 164 116 149 174  60 229 128 139 260  92  89 206 227  78 109  32  29\n",
      " 262 186 159 230  46 162 243  20 187  27 157 263  42 228  84  81 210  49\n",
      " 261  75  48  23 173  62  83  44  22 267  71  50 137  35 185 156 169]\n",
      "(4812, 227)\n"
     ]
    },
    {
     "name": "stderr",
     "output_type": "stream",
     "text": [
      "/home/zwkan/ChaosMining/src/captum/captum/_utils/gradient.py:57: UserWarning: Input Tensor 0 did not already require gradients, required_grads has been set automatically.\n",
      "  warnings.warn(\n"
     ]
    },
    {
     "data": {
      "application/vnd.jupyter.widget-view+json": {
       "model_id": "bbc3b9b61957467193bb11079c938bc8",
       "version_major": 2,
       "version_minor": 0
      },
      "text/plain": [
       "Train:   0%|          | 0/500 [00:00<?, ?epoch/s]"
      ]
     },
     "metadata": {},
     "output_type": "display_data"
    },
    {
     "name": "stdout",
     "output_type": "stream",
     "text": [
      "train loss: 0.387012243270874\n",
      "Test auc is 0.7703936677095194\n",
      "Test ACC is 0.7141542390306996\n",
      "num_remove 43\n",
      "inds (43,)\n",
      "173\n",
      "(200,)\n",
      "(43,)\n",
      "[ 34  59 187 188 125 224 221 220 219 218 168 167 126 186 110 104 103 128\n",
      " 131  88  20  87 133 141  72  25 151  57  49  48  38  37  36 119  40  83\n",
      "  93  50  47 142 162  68  69]\n",
      "(4812, 200)\n"
     ]
    },
    {
     "name": "stderr",
     "output_type": "stream",
     "text": [
      "/home/zwkan/ChaosMining/src/captum/captum/_utils/gradient.py:57: UserWarning: Input Tensor 0 did not already require gradients, required_grads has been set automatically.\n",
      "  warnings.warn(\n"
     ]
    },
    {
     "data": {
      "application/vnd.jupyter.widget-view+json": {
       "model_id": "9ea2d1be026b4e8cbc9994b31f2d0d3c",
       "version_major": 2,
       "version_minor": 0
      },
      "text/plain": [
       "Train:   0%|          | 0/500 [00:00<?, ?epoch/s]"
      ]
     },
     "metadata": {},
     "output_type": "display_data"
    },
    {
     "name": "stdout",
     "output_type": "stream",
     "text": [
      "train loss: 0.3904813230037689\n",
      "Test auc is 0.7776581690748089\n",
      "Test ACC is 0.71242966271267\n",
      "num_remove 34\n",
      "inds (34,)\n",
      "139\n",
      "(182,)\n",
      "(34,)\n",
      "[161 112  81 160  31  38 125  56 194 193 124 116 108 101 100 140  95 158\n",
      "  36 183 141  32 192  39  43  61  37  64 106  74 135  48  82  30]\n",
      "(4812, 182)\n"
     ]
    },
    {
     "name": "stderr",
     "output_type": "stream",
     "text": [
      "/home/zwkan/ChaosMining/src/captum/captum/_utils/gradient.py:57: UserWarning: Input Tensor 0 did not already require gradients, required_grads has been set automatically.\n",
      "  warnings.warn(\n"
     ]
    },
    {
     "data": {
      "application/vnd.jupyter.widget-view+json": {
       "model_id": "21e6ffbc33bb4996b69bc5dba0834298",
       "version_major": 2,
       "version_minor": 0
      },
      "text/plain": [
       "Train:   0%|          | 0/500 [00:00<?, ?epoch/s]"
      ]
     },
     "metadata": {},
     "output_type": "display_data"
    },
    {
     "name": "stdout",
     "output_type": "stream",
     "text": [
      "train loss: 0.3680095672607422\n",
      "Test auc is 0.7716774268436936\n",
      "Test ACC is 0.717951623423284\n",
      "num_remove 27\n",
      "inds (27,)\n",
      "112\n",
      "(174,)\n",
      "(27,)\n",
      "[ 28  90 175 173 171 143 142 140 107 106  98  94  88  85  68  57  31   0\n",
      "  63 130  20 101  82  47  27 117  83]\n",
      "(4812, 174)\n"
     ]
    },
    {
     "name": "stderr",
     "output_type": "stream",
     "text": [
      "/home/zwkan/ChaosMining/src/captum/captum/_utils/gradient.py:57: UserWarning: Input Tensor 0 did not already require gradients, required_grads has been set automatically.\n",
      "  warnings.warn(\n"
     ]
    },
    {
     "data": {
      "application/vnd.jupyter.widget-view+json": {
       "model_id": "77f2cec82cde4cf4b5c4c46d08c91e6a",
       "version_major": 2,
       "version_minor": 0
      },
      "text/plain": [
       "Train:   0%|          | 0/500 [00:00<?, ?epoch/s]"
      ]
     },
     "metadata": {},
     "output_type": "display_data"
    },
    {
     "name": "stdout",
     "output_type": "stream",
     "text": [
      "train loss: 0.37432578206062317\n",
      "Test auc is 0.774781111467327\n",
      "Test ACC is 0.7198862442928684\n",
      "num_remove 22\n",
      "inds (22,)\n",
      "90\n",
      "(164,)\n",
      "(22,)\n",
      "[ 19  42  82 134  80  75  98 114  30 115  26  90  99 168 167  29  96 133\n",
      "  54 109  34 166]\n",
      "(4812, 164)\n"
     ]
    },
    {
     "name": "stderr",
     "output_type": "stream",
     "text": [
      "/home/zwkan/ChaosMining/src/captum/captum/_utils/gradient.py:57: UserWarning: Input Tensor 0 did not already require gradients, required_grads has been set automatically.\n",
      "  warnings.warn(\n"
     ]
    },
    {
     "data": {
      "application/vnd.jupyter.widget-view+json": {
       "model_id": "21931c58f27346259cfdeaaa25164562",
       "version_major": 2,
       "version_minor": 0
      },
      "text/plain": [
       "Train:   0%|          | 0/500 [00:00<?, ?epoch/s]"
      ]
     },
     "metadata": {},
     "output_type": "display_data"
    },
    {
     "name": "stdout",
     "output_type": "stream",
     "text": [
      "train loss: 0.3682009279727936\n",
      "Test auc is 0.7781155687232608\n",
      "Test ACC is 0.7224095426556264\n",
      "num_remove 17\n",
      "inds (17,)\n",
      "73\n",
      "(160,)\n",
      "(17,)\n",
      "[ 65  72 125  23 124 123 155  36 158 122  52  88  64  89  70  67  26]\n",
      "best features: [  1   2   3   4   5   6   7   8   9  10  11  12  13  14  15  16  17  18\n",
      "  21  33  45  51  53  58  73  76  77  79  86  91  97 102 105 111 113 118\n",
      " 120 121 127 129 136 138 144 145 147 148 150 152 153 154 165 170 172 176\n",
      " 177 179 180 181 189 191 195 196 199 201 202 203 204 205 207 209 211 212\n",
      " 213 214 216 217 223 225 232 233 234 235 236 238 240 241 242 244 245 246\n",
      " 247 248 249 250 251 252 253 254 255 256 257 259 264 265 266 268 269 270\n",
      " 271 272 273 274 275 277 279 280 281 282 283 285 286 288 289 290 291 292\n",
      " 293 294 295 296 297 298 299 300 301 302 303 304 305 306 307 308 309 310\n",
      " 311 312 313 314 318 320 321 324 326 327 328 330 331 332 333 334]\n",
      "Deep Lift\n",
      "(4812, 335)\n"
     ]
    },
    {
     "name": "stderr",
     "output_type": "stream",
     "text": [
      "/home/zwkan/ChaosMining/src/captum/captum/_utils/gradient.py:57: UserWarning: Input Tensor 0 did not already require gradients, required_grads has been set automatically.\n",
      "  warnings.warn(\n"
     ]
    },
    {
     "data": {
      "application/vnd.jupyter.widget-view+json": {
       "model_id": "70bafbddd59a487ba8deff6b0b524a6a",
       "version_major": 2,
       "version_minor": 0
      },
      "text/plain": [
       "Train:   0%|          | 0/500 [00:00<?, ?epoch/s]"
      ]
     },
     "metadata": {},
     "output_type": "display_data"
    },
    {
     "name": "stdout",
     "output_type": "stream",
     "text": [
      "train loss: 0.385741263628006\n",
      "Test auc is 0.7830156870115081\n",
      "Test ACC is 0.7212764075748699\n",
      "num_remove 66\n",
      "inds (66,)\n",
      "269\n",
      "(269,)\n",
      "(66,)\n",
      "[196 198  83  93  94 100 101 111 122 123 128 129 130 131 132 133 325 324\n",
      " 323 322 149 154 167 163 166 168 174 175 178 181 182 183 184 185 186 190\n",
      " 193 194 195 326 197 240 239 316 315 289 288 287 286 285 284 283 278 277\n",
      " 276 319 260 259 257 241 158 207 206 213 208 215]\n",
      "(4812, 269)\n"
     ]
    },
    {
     "name": "stderr",
     "output_type": "stream",
     "text": [
      "/home/zwkan/ChaosMining/src/captum/captum/_utils/gradient.py:57: UserWarning: Input Tensor 0 did not already require gradients, required_grads has been set automatically.\n",
      "  warnings.warn(\n",
      "/home/zwkan/ChaosMining/src/captum/captum/attr/_core/deep_lift.py:304: UserWarning: Setting forward, backward hooks and attributes on non-linear\n",
      "               activations. The hooks and attributes will be removed\n",
      "            after the attribution is finished\n",
      "  warnings.warn(\n"
     ]
    },
    {
     "data": {
      "application/vnd.jupyter.widget-view+json": {
       "model_id": "66e4e238f14147268e8b4084ce172f51",
       "version_major": 2,
       "version_minor": 0
      },
      "text/plain": [
       "Train:   0%|          | 0/500 [00:00<?, ?epoch/s]"
      ]
     },
     "metadata": {},
     "output_type": "display_data"
    },
    {
     "name": "stdout",
     "output_type": "stream",
     "text": [
      "train loss: 0.3839403986930847\n",
      "Test auc is 0.7702734448411953\n",
      "Test ACC is 0.714693169130084\n",
      "num_remove 53\n",
      "inds (53,)\n",
      "216\n",
      "(228,)\n",
      "(53,)\n",
      "[ 34  62 163  82 261 164 167 262 263 173  66  65  64  63  61  60  55  54\n",
      " 176 177 178 179 180 181 182  42  41 184  35 257  24  23 141 140 195 258\n",
      " 259 264 265 170  40 267 266 151  95 168 254 162 157 183 260 232  76]\n",
      "(4812, 228)\n"
     ]
    },
    {
     "name": "stderr",
     "output_type": "stream",
     "text": [
      "/home/zwkan/ChaosMining/src/captum/captum/_utils/gradient.py:57: UserWarning: Input Tensor 0 did not already require gradients, required_grads has been set automatically.\n",
      "  warnings.warn(\n",
      "/home/zwkan/ChaosMining/src/captum/captum/attr/_core/deep_lift.py:304: UserWarning: Setting forward, backward hooks and attributes on non-linear\n",
      "               activations. The hooks and attributes will be removed\n",
      "            after the attribution is finished\n",
      "  warnings.warn(\n"
     ]
    },
    {
     "data": {
      "application/vnd.jupyter.widget-view+json": {
       "model_id": "18f2479d01e14a67885157ffb977eda0",
       "version_major": 2,
       "version_minor": 0
      },
      "text/plain": [
       "Train:   0%|          | 0/500 [00:00<?, ?epoch/s]"
      ]
     },
     "metadata": {},
     "output_type": "display_data"
    },
    {
     "name": "stdout",
     "output_type": "stream",
     "text": [
      "train loss: 0.3921399712562561\n",
      "Test auc is 0.7794988226450137\n",
      "Test ACC is 0.7236090075947688\n",
      "num_remove 43\n",
      "inds (43,)\n",
      "173\n",
      "(196,)\n",
      "(43,)\n",
      "[132 136 222 146 147 218 148 223 224 149 216 220 150 151 153 142 217 139\n",
      " 221 163 145 226 225 133  76 213  79 131 164 126 119 118  77 219 191 152\n",
      " 212 166  37  38 137  78 122]\n",
      "(4812, 196)\n"
     ]
    },
    {
     "name": "stderr",
     "output_type": "stream",
     "text": [
      "/home/zwkan/ChaosMining/src/captum/captum/_utils/gradient.py:57: UserWarning: Input Tensor 0 did not already require gradients, required_grads has been set automatically.\n",
      "  warnings.warn(\n",
      "/home/zwkan/ChaosMining/src/captum/captum/attr/_core/deep_lift.py:304: UserWarning: Setting forward, backward hooks and attributes on non-linear\n",
      "               activations. The hooks and attributes will be removed\n",
      "            after the attribution is finished\n",
      "  warnings.warn(\n"
     ]
    },
    {
     "data": {
      "application/vnd.jupyter.widget-view+json": {
       "model_id": "40a2d58467aa4bfe8203e3308fba52b5",
       "version_major": 2,
       "version_minor": 0
      },
      "text/plain": [
       "Train:   0%|          | 0/500 [00:00<?, ?epoch/s]"
      ]
     },
     "metadata": {},
     "output_type": "display_data"
    },
    {
     "name": "stdout",
     "output_type": "stream",
     "text": [
      "train loss: 0.40740177035331726\n",
      "Test auc is 0.7765830726201399\n",
      "Test ACC is 0.7182141791127277\n",
      "num_remove 34\n",
      "inds (34,)\n",
      "139\n",
      "(177,)\n",
      "(34,)\n",
      "[194 187 185 184 181 188 131 121 119 116 113 112 189 190 191 192 193 186\n",
      " 107  99  71 111  72  36 132 180 100 106  73 159  74 134 103 182]\n",
      "(4812, 177)\n"
     ]
    },
    {
     "name": "stderr",
     "output_type": "stream",
     "text": [
      "/home/zwkan/ChaosMining/src/captum/captum/_utils/gradient.py:57: UserWarning: Input Tensor 0 did not already require gradients, required_grads has been set automatically.\n",
      "  warnings.warn(\n",
      "/home/zwkan/ChaosMining/src/captum/captum/attr/_core/deep_lift.py:304: UserWarning: Setting forward, backward hooks and attributes on non-linear\n",
      "               activations. The hooks and attributes will be removed\n",
      "            after the attribution is finished\n",
      "  warnings.warn(\n"
     ]
    },
    {
     "data": {
      "application/vnd.jupyter.widget-view+json": {
       "model_id": "8ef5636a2a9e4d8d9d2adbd1b55571c7",
       "version_major": 2,
       "version_minor": 0
      },
      "text/plain": [
       "Train:   0%|          | 0/500 [00:00<?, ?epoch/s]"
      ]
     },
     "metadata": {},
     "output_type": "display_data"
    },
    {
     "name": "stdout",
     "output_type": "stream",
     "text": [
      "train loss: 0.3914170563220978\n",
      "Test auc is 0.7777797738151828\n",
      "Test ACC is 0.7186757243773285\n",
      "num_remove 27\n",
      "inds (27,)\n",
      "112\n",
      "(165,)\n",
      "(27,)\n",
      "[175 162 161 113 112 165 102 100  97  94  93  92 166  85 167 169 170 171\n",
      " 172 173 174 168  88 115  35 140  91]\n",
      "(4812, 165)\n"
     ]
    },
    {
     "name": "stderr",
     "output_type": "stream",
     "text": [
      "/home/zwkan/ChaosMining/src/captum/captum/_utils/gradient.py:57: UserWarning: Input Tensor 0 did not already require gradients, required_grads has been set automatically.\n",
      "  warnings.warn(\n",
      "/home/zwkan/ChaosMining/src/captum/captum/attr/_core/deep_lift.py:304: UserWarning: Setting forward, backward hooks and attributes on non-linear\n",
      "               activations. The hooks and attributes will be removed\n",
      "            after the attribution is finished\n",
      "  warnings.warn(\n"
     ]
    },
    {
     "data": {
      "application/vnd.jupyter.widget-view+json": {
       "model_id": "c81fe368d8ec465e93d89cb0248f2720",
       "version_major": 2,
       "version_minor": 0
      },
      "text/plain": [
       "Train:   0%|          | 0/500 [00:00<?, ?epoch/s]"
      ]
     },
     "metadata": {},
     "output_type": "display_data"
    },
    {
     "name": "stdout",
     "output_type": "stream",
     "text": [
      "train loss: 0.3980121314525604\n",
      "Test auc is 0.7815191195816797\n",
      "Test ACC is 0.716019766297799\n",
      "num_remove 22\n",
      "inds (22,)\n",
      "90\n",
      "(159,)\n",
      "(22,)\n",
      "[162  81  82 154 153  61 150 149  80 156 157 158 159  88  85  90 155 160\n",
      " 100 161 101 163]\n",
      "(4812, 159)\n"
     ]
    },
    {
     "name": "stderr",
     "output_type": "stream",
     "text": [
      "/home/zwkan/ChaosMining/src/captum/captum/_utils/gradient.py:57: UserWarning: Input Tensor 0 did not already require gradients, required_grads has been set automatically.\n",
      "  warnings.warn(\n",
      "/home/zwkan/ChaosMining/src/captum/captum/attr/_core/deep_lift.py:304: UserWarning: Setting forward, backward hooks and attributes on non-linear\n",
      "               activations. The hooks and attributes will be removed\n",
      "            after the attribution is finished\n",
      "  warnings.warn(\n"
     ]
    },
    {
     "data": {
      "application/vnd.jupyter.widget-view+json": {
       "model_id": "8acd51116ac64e6a912d5e8aaaf7bd54",
       "version_major": 2,
       "version_minor": 0
      },
      "text/plain": [
       "Train:   0%|          | 0/500 [00:00<?, ?epoch/s]"
      ]
     },
     "metadata": {},
     "output_type": "display_data"
    },
    {
     "name": "stdout",
     "output_type": "stream",
     "text": [
      "train loss: 0.38927581906318665\n",
      "Test auc is 0.7794877676686159\n",
      "Test ACC is 0.7240788440916679\n",
      "num_remove 17\n",
      "inds (17,)\n",
      "73\n",
      "(157,)\n",
      "(17,)\n",
      "[153 151 148  94  84  76  75  79 152 147 155 156  82 157 149 154 150]\n",
      "best features: [  0   1   2   3   4   5   6   7   8   9  10  11  12  13  14  15  16  17\n",
      "  18  19  20  21  22  25  26  27  28  29  30  31  32  33  39  43  44  45\n",
      "  46  47  48  49  50  51  52  53  56  57  58  59  67  68  69  70  86  87\n",
      "  89  96  98 104 105 108 109 110 114 117 120 124 125 127 135 138 143 144\n",
      " 199 200 201 202 203 204 205 209 210 211 214 227 228 229 230 231 233 234\n",
      " 235 236 237 238 242 243 244 245 246 247 248 249 250 251 252 253 255 256\n",
      " 268 269 270 271 272 273 274 275 279 280 281 282 290 291 292 293 294 295\n",
      " 296 297 298 299 300 301 302 303 304 305 306 307 308 309 310 311 312 313\n",
      " 314 317 318 320 321 327 328 329 330 331 332 333 334]\n",
      "Feature Ablation\n",
      "(4812, 335)\n"
     ]
    },
    {
     "name": "stderr",
     "output_type": "stream",
     "text": [
      "/home/zwkan/ChaosMining/src/captum/captum/_utils/gradient.py:57: UserWarning: Input Tensor 0 did not already require gradients, required_grads has been set automatically.\n",
      "  warnings.warn(\n",
      "/home/zwkan/ChaosMining/src/captum/captum/attr/_core/deep_lift.py:304: UserWarning: Setting forward, backward hooks and attributes on non-linear\n",
      "               activations. The hooks and attributes will be removed\n",
      "            after the attribution is finished\n",
      "  warnings.warn(\n"
     ]
    },
    {
     "data": {
      "application/vnd.jupyter.widget-view+json": {
       "model_id": "9914d148890b46c9a66027fa1d543268",
       "version_major": 2,
       "version_minor": 0
      },
      "text/plain": [
       "Train:   0%|          | 0/500 [00:00<?, ?epoch/s]"
      ]
     },
     "metadata": {},
     "output_type": "display_data"
    },
    {
     "name": "stdout",
     "output_type": "stream",
     "text": [
      "train loss: 0.3799121379852295\n",
      "Test auc is 0.771271156461081\n",
      "Test ACC is 0.7182888002034116\n",
      "num_remove 66\n",
      "inds (66,)\n",
      "269\n",
      "(269,)\n",
      "(66,)\n",
      "[200 201 100 101 111 122 123 128 129 130 131 132 133 325 324 323 149 154\n",
      " 167 163 166 322 168 174 175 178 180 181 182 183 184 185 186 190 192 193\n",
      " 194 195 196 197 198  93 257 241 316 315 289 288 287 286 285 284 283 278\n",
      " 277 276 275 268 267 319 260 259 158 208 212 214]\n",
      "(4812, 269)\n"
     ]
    },
    {
     "data": {
      "application/vnd.jupyter.widget-view+json": {
       "model_id": "33dfe778532c4916bc775cd0b99c7d57",
       "version_major": 2,
       "version_minor": 0
      },
      "text/plain": [
       "Train:   0%|          | 0/500 [00:00<?, ?epoch/s]"
      ]
     },
     "metadata": {},
     "output_type": "display_data"
    },
    {
     "name": "stdout",
     "output_type": "stream",
     "text": [
      "train loss: 0.37432581186294556\n",
      "Test auc is 0.7750975601667092\n",
      "Test ACC is 0.7256652332047271\n",
      "num_remove 53\n",
      "inds (53,)\n",
      "216\n",
      "(232,)\n",
      "(53,)\n",
      "[ 42  83 165 162 158 168 170 172 173 256 257 176 177 178 179 180 181 182\n",
      " 183 184 195  93 197  82 260 261 262 263 198 200  66  65  64  63  62  61\n",
      "  60 264 265  55  54 167  41  34 231  24  23  35 252 253 144  40  97]\n",
      "(4812, 232)\n"
     ]
    },
    {
     "data": {
      "application/vnd.jupyter.widget-view+json": {
       "model_id": "458f5eab7b6547598218a764f8b93bd0",
       "version_major": 2,
       "version_minor": 0
      },
      "text/plain": [
       "Train:   0%|          | 0/500 [00:00<?, ?epoch/s]"
      ]
     },
     "metadata": {},
     "output_type": "display_data"
    },
    {
     "name": "stdout",
     "output_type": "stream",
     "text": [
      "train loss: 0.39292439818382263\n",
      "Test auc is 0.7801897586698652\n",
      "Test ACC is 0.7250765557115535\n",
      "num_remove 43\n",
      "inds (43,)\n",
      "173\n",
      "(196,)\n",
      "(43,)\n",
      "[137 230 226 225 224 223 169 168 166 156  75 154 153 152 151 150 149 148\n",
      " 145 144 143 220 229 219 140 139 228 113 227  59 142 134 124 155 216 130\n",
      " 171 215  38 194  37  81  80]\n",
      "(4812, 196)\n"
     ]
    },
    {
     "data": {
      "application/vnd.jupyter.widget-view+json": {
       "model_id": "33cc3f4b95f14468b208f35194a61b7d",
       "version_major": 2,
       "version_minor": 0
      },
      "text/plain": [
       "Train:   0%|          | 0/500 [00:00<?, ?epoch/s]"
      ]
     },
     "metadata": {},
     "output_type": "display_data"
    },
    {
     "name": "stdout",
     "output_type": "stream",
     "text": [
      "train loss: 0.3800888657569885\n",
      "Test auc is 0.7742076345667002\n",
      "Test ACC is 0.7215389632643134\n",
      "num_remove 34\n",
      "inds (34,)\n",
      "139\n",
      "(181,)\n",
      "(34,)\n",
      "[123 116 188  69 191 192 187 106 110 113 115 184 118 193 120 122 189 124\n",
      " 183 158 132 102 133 130 135 190 180  36  35  75 179  74 181 182]\n",
      "(4812, 181)\n"
     ]
    },
    {
     "data": {
      "application/vnd.jupyter.widget-view+json": {
       "model_id": "96d8533decca4450910d8a97e9352ffe",
       "version_major": 2,
       "version_minor": 0
      },
      "text/plain": [
       "Train:   0%|          | 0/500 [00:00<?, ?epoch/s]"
      ]
     },
     "metadata": {},
     "output_type": "display_data"
    },
    {
     "name": "stdout",
     "output_type": "stream",
     "text": [
      "train loss: 0.38691002130508423\n",
      "Test auc is 0.7787443205058757\n",
      "Test ACC is 0.726936555490454\n",
      "num_remove 27\n",
      "inds (27,)\n",
      "112\n",
      "(170,)\n",
      "(27,)\n",
      "[177 168 118 117 115 109 108 107 105 103 101 100  98 172  66 173 174 175\n",
      " 176 169   7   8  95 120 143 164 165]\n",
      "(4812, 170)\n"
     ]
    },
    {
     "data": {
      "application/vnd.jupyter.widget-view+json": {
       "model_id": "821ddac48ce94e0590179c87875a58fd",
       "version_major": 2,
       "version_minor": 0
      },
      "text/plain": [
       "Train:   0%|          | 0/500 [00:00<?, ?epoch/s]"
      ]
     },
     "metadata": {},
     "output_type": "display_data"
    },
    {
     "name": "stdout",
     "output_type": "stream",
     "text": [
      "train loss: 0.39333227276802063\n",
      "Test auc is 0.7785715864996628\n",
      "Test ACC is 0.7202786959549841\n",
      "num_remove 22\n",
      "inds (22,)\n",
      "90\n",
      "(160,)\n",
      "(22,)\n",
      "[157  94 163 162  64 161 167 158  87  89  90 164  96 166  92  98 104 106\n",
      " 107  97 165  84]\n",
      "(4812, 160)\n"
     ]
    },
    {
     "data": {
      "application/vnd.jupyter.widget-view+json": {
       "model_id": "741cd513f5fc4535b2c65acef8b9df3c",
       "version_major": 2,
       "version_minor": 0
      },
      "text/plain": [
       "Train:   0%|          | 0/500 [00:00<?, ?epoch/s]"
      ]
     },
     "metadata": {},
     "output_type": "display_data"
    },
    {
     "name": "stdout",
     "output_type": "stream",
     "text": [
      "train loss: 0.38809263706207275\n",
      "Test auc is 0.7832506052599577\n",
      "Test ACC is 0.7188857689288833\n",
      "num_remove 17\n",
      "inds (17,)\n",
      "73\n",
      "(155,)\n",
      "(17,)\n",
      "[ 84  86 153 152 151  79  77 148  80 147 154  87  97  96  88  94 158]\n",
      "best features: [  0   1   2   3   4   5   6   9  10  11  12  13  14  15  16  17  18  19\n",
      "  20  21  22  25  26  27  28  29  30  31  32  33  39  43  44  45  46  47\n",
      "  48  49  50  51  52  53  56  57  58  67  68  70  71  72  73  76  78  85\n",
      "  91  99 112 114 119 121 125 126 127 136 138 141 146 159 160 199 202 203\n",
      " 204 205 206 207 209 210 211 213 217 218 221 222 232 233 234 235 236 237\n",
      " 238 239 240 242 243 244 245 246 247 248 249 250 251 254 255 258 266 269\n",
      " 270 271 272 273 274 279 280 281 282 290 291 292 293 294 295 296 297 298\n",
      " 299 300 301 302 303 304 305 306 307 308 309 310 311 312 313 314 317 318\n",
      " 320 321 326 327 328 329 330 331 332 333 334]\n",
      "Integrated Gradients\n",
      "(4812, 335)\n"
     ]
    },
    {
     "data": {
      "application/vnd.jupyter.widget-view+json": {
       "model_id": "c1f20964acc24d1090925c71e0924ef1",
       "version_major": 2,
       "version_minor": 0
      },
      "text/plain": [
       "Train:   0%|          | 0/500 [00:00<?, ?epoch/s]"
      ]
     },
     "metadata": {},
     "output_type": "display_data"
    },
    {
     "name": "stdout",
     "output_type": "stream",
     "text": [
      "train loss: 0.38588470220565796\n",
      "Test auc is 0.7724733851443227\n",
      "Test ACC is 0.7272626772941839\n",
      "num_remove 66\n",
      "inds (66,)\n",
      "269\n",
      "(269,)\n",
      "(66,)\n",
      "[195 197  83  93  94 100 101 111 122 123 324 128 129 130 131 132 133 323\n",
      " 322 149 154 167 158 163 166 168 319 174 175 178 181 182 183 184 185 186\n",
      " 190 193 194 325 196 239 237 289 288 287 286 285 284 283 278 277 276 317\n",
      " 260 259 257 318 241 240 315 206 204 208 207 214]\n",
      "(4812, 269)\n"
     ]
    },
    {
     "data": {
      "application/vnd.jupyter.widget-view+json": {
       "model_id": "bfb807fec120402db08336df8d92744a",
       "version_major": 2,
       "version_minor": 0
      },
      "text/plain": [
       "Train:   0%|          | 0/500 [00:00<?, ?epoch/s]"
      ]
     },
     "metadata": {},
     "output_type": "display_data"
    },
    {
     "name": "stdout",
     "output_type": "stream",
     "text": [
      "train loss: 0.3926178216934204\n",
      "Test auc is 0.7814182429220514\n",
      "Test ACC is 0.7264031528792686\n",
      "num_remove 53\n",
      "inds (53,)\n",
      "216\n",
      "(226,)\n",
      "(53,)\n",
      "[184  66 257 142 254 157 162 163 164 165 170 232  82 260 261 262 263 173\n",
      " 174  65  64  63  62  23  24 253  61 198  60 177 264 265  55  54  34  35\n",
      " 185 178 179 180 181  41  42 182 183 255  45 267 266 256  98 211  97]\n",
      "(4812, 226)\n"
     ]
    },
    {
     "data": {
      "application/vnd.jupyter.widget-view+json": {
       "model_id": "c2c11af483a040679449b728f01b0097",
       "version_major": 2,
       "version_minor": 0
      },
      "text/plain": [
       "Train:   0%|          | 0/500 [00:00<?, ?epoch/s]"
      ]
     },
     "metadata": {},
     "output_type": "display_data"
    },
    {
     "name": "stdout",
     "output_type": "stream",
     "text": [
      "train loss: 0.4032813012599945\n",
      "Test auc is 0.7784624186077362\n",
      "Test ACC is 0.719543540024542\n",
      "num_remove 43\n",
      "inds (43,)\n",
      "173\n",
      "(195,)\n",
      "(43,)\n",
      "[140  79 211 189 210 214 217 218 219 220 166 221 222 121 126 154 153 152\n",
      " 151 150 128 224 223 149 148 147 146 143 142 133 134 135  78 212  60 163\n",
      " 120 132  38 213  59 112 184]\n",
      "(4812, 195)\n"
     ]
    },
    {
     "data": {
      "application/vnd.jupyter.widget-view+json": {
       "model_id": "bfa57c35c5ee478fbe7484e16e2a2438",
       "version_major": 2,
       "version_minor": 0
      },
      "text/plain": [
       "Train:   0%|          | 0/500 [00:00<?, ?epoch/s]"
      ]
     },
     "metadata": {},
     "output_type": "display_data"
    },
    {
     "name": "stdout",
     "output_type": "stream",
     "text": [
      "train loss: 0.3926112949848175\n",
      "Test auc is 0.7823896989729928\n",
      "Test ACC is 0.7252036879401262\n",
      "num_remove 34\n",
      "inds (34,)\n",
      "139\n",
      "(178,)\n",
      "(34,)\n",
      "[ 37 181 180 179 158 183 135 123 122 120 115 114 113 109 107 102 186  75\n",
      "  74 187 188 193 192 189 190 191 182  99 184 145 108 132 101  70]\n",
      "(4812, 178)\n"
     ]
    },
    {
     "data": {
      "application/vnd.jupyter.widget-view+json": {
       "model_id": "be23b50ed61b4492845d615ab775983e",
       "version_major": 2,
       "version_minor": 0
      },
      "text/plain": [
       "Train:   0%|          | 0/500 [00:00<?, ?epoch/s]"
      ]
     },
     "metadata": {},
     "output_type": "display_data"
    },
    {
     "name": "stdout",
     "output_type": "stream",
     "text": [
      "train loss: 0.39070290327072144\n",
      "Test auc is 0.7665244259703506\n",
      "Test ACC is 0.7112910001437147\n",
      "num_remove 27\n",
      "inds (27,)\n",
      "112\n",
      "(164,)\n",
      "(27,)\n",
      "[163  97  96 141 174  98  69  94 103 169  89 105 170 166 165 118 171 172\n",
      " 106 173 164 176 175 162  36  66   5]\n",
      "(4812, 164)\n"
     ]
    },
    {
     "data": {
      "application/vnd.jupyter.widget-view+json": {
       "model_id": "e85a11414c2b41819dd33de490dcbf90",
       "version_major": 2,
       "version_minor": 0
      },
      "text/plain": [
       "Train:   0%|          | 0/500 [00:00<?, ?epoch/s]"
      ]
     },
     "metadata": {},
     "output_type": "display_data"
    },
    {
     "name": "stdout",
     "output_type": "stream",
     "text": [
      "train loss: 0.39716386795043945\n",
      "Test auc is 0.7784430723990404\n",
      "Test ACC is 0.7281995865438827\n",
      "num_remove 22\n",
      "inds (22,)\n",
      "90\n",
      "(154,)\n",
      "(22,)\n",
      "[162 152  82  83  84 155 156 157 158 159 160  89 127  91  92 149 161 148\n",
      " 104 150  79 151]\n",
      "(4812, 154)\n"
     ]
    },
    {
     "data": {
      "application/vnd.jupyter.widget-view+json": {
       "model_id": "34e780b61d144f50809fd5df731d3a71",
       "version_major": 2,
       "version_minor": 0
      },
      "text/plain": [
       "Train:   0%|          | 0/500 [00:00<?, ?epoch/s]"
      ]
     },
     "metadata": {},
     "output_type": "display_data"
    },
    {
     "name": "stdout",
     "output_type": "stream",
     "text": [
      "train loss: 0.3999764025211334\n",
      "Test auc is 0.7762293133754159\n",
      "Test ACC is 0.7176890677338403\n",
      "num_remove 17\n",
      "inds (17,)\n",
      "73\n",
      "(149,)\n",
      "(17,)\n",
      "[142  79 146  82 145 150 151 147 148  73  74 149 152  72 139  81 117]\n",
      "best features: [  0   1   2   3   4   6   7   8   9  10  11  12  13  14  15  16  17  18\n",
      "  19  20  21  22  25  26  27  28  29  30  31  32  33  39  40  43  44  46\n",
      "  47  48  49  50  51  52  53  56  57  58  67  68  71  76  77  80  85  86\n",
      "  87  88  90  95 110 116 119 124 125 136 137 138 144 199 200 201 202 203\n",
      " 205 209 215 216 225 226 227 228 229 230 231 233 234 235 236 238 242 243\n",
      " 244 245 246 247 248 249 250 251 252 258 268 269 270 271 272 273 274 275\n",
      " 279 280 281 282 290 291 292 293 294 295 296 297 298 299 300 301 302 303\n",
      " 304 305 306 307 308 309 310 311 312 313 314 316 320 321 326 327 328 329\n",
      " 330 331 332 333 334]\n"
     ]
    }
   ],
   "source": [
    "for xai_method in [Saliency,DeepLift,FeatureAblation,IntegratedGradients]:\n",
    "    print(xai_method.get_name())\n",
    "    reduce_rate = 0.8\n",
    "    best_score = 0\n",
    "    num_cur_features = X_train.shape[-1]\n",
    "    select_arr = np.ones(num_cur_features)\n",
    "    num_select = 73\n",
    "    while num_cur_features>num_select:\n",
    "        bool_arr = np.array(select_arr, dtype='bool') \n",
    "        print(X_train[...,bool_arr].shape)\n",
    "        train_set = TensorDataset(Tensor(X_train[...,bool_arr]), Tensor(y_train))\n",
    "        train_loader = DataLoader(train_set, batch_size=y_train.shape[0], shuffle=True)\n",
    "        test_set = TensorDataset(Tensor(X_test[...,bool_arr]), Tensor(y_test))\n",
    "        test_loader = DataLoader(test_set, batch_size=y_test.shape[0])\n",
    "    \n",
    "        model = MLPClassifier(int(np.sum(select_arr)), hidden_layer_sizes, p=0.0)\n",
    "        model.to(device)\n",
    "        model.train()\n",
    "    \n",
    "        # criterion = nn.MSELoss(reduction='mean')\n",
    "        criterion = nn.BCELoss(reduction='mean')\n",
    "        optimizer = torch.optim.Adam(model.parameters(), 0.001)\n",
    "    \n",
    "        train(model, train_loader, num_epochs, optimizer)\n",
    "    \n",
    "        model.eval()\n",
    "        y_pred = model(Tensor(X_test[...,bool_arr]).to(device)).detach().cpu().numpy()\n",
    "        fpr, tpr, thresholds = roc_curve(y_test,y_pred)\n",
    "        score = auc(fpr, tpr)\n",
    "        auc_score = auc(fpr, tpr)\n",
    "        print('Test auc is', auc_score)\n",
    "        ACC = balanced_accuracy_score(y_test,np.around(y_pred))\n",
    "        \n",
    "        print('Test ACC is', ACC)\n",
    "    \n",
    "        xai = xai_method(model)\n",
    "        # xai = DeepLift(model)\n",
    "        # xai = FeatureAblation(model)\n",
    "        # xai = IntegratedGradients(model)\n",
    "    \n",
    "        num_remove = int(num_cur_features*(1-reduce_rate))\n",
    "        if num_cur_features - num_remove<num_select:\n",
    "            num_remove = num_cur_features - num_select\n",
    "        print('num_remove', num_remove)\n",
    "        xai_attr_test = xai.attribute(Tensor(X_test[...,bool_arr]).to(device))\n",
    "        abs_xai_attr_test = np.abs(xai_attr_test.detach().cpu().numpy()).mean(0)\n",
    "        inds = np.argpartition(abs_xai_attr_test, num_remove)[:num_remove]\n",
    "        print('inds', inds.shape)\n",
    "        select_arr[inds] = 0\n",
    "        num_cur_features -= num_remove\n",
    "        print(num_cur_features)\n",
    "        print(np.where(select_arr==1)[0].shape)\n",
    "        print(inds.shape)\n",
    "        print(inds)\n",
    "    # print('The best score is:', best_score)\n",
    "    print('best features:', np.where(select_arr==1)[0])\n",
    "    np.save(f'./{xai_method.get_name()}_feature.npy',np.where(select_arr==1)[0])"
   ]
  },
  {
   "cell_type": "code",
   "execution_count": 467,
   "id": "c373b3a6-a8fe-46db-bdbe-974da1e1b224",
   "metadata": {},
   "outputs": [],
   "source": [
    "feature_saliency = np.load('Saliency_feature.npy')"
   ]
  },
  {
   "cell_type": "code",
   "execution_count": 469,
   "id": "95542401-3cb1-43da-8c08-7ccc18ff6b05",
   "metadata": {},
   "outputs": [
    {
     "data": {
      "text/plain": [
       "(160,)"
      ]
     },
     "execution_count": 469,
     "metadata": {},
     "output_type": "execute_result"
    }
   ],
   "source": [
    "feature_saliency.shape"
   ]
  },
  {
   "cell_type": "code",
   "execution_count": 465,
   "id": "f74e7dbd-34bb-4436-82ad-114aa172d207",
   "metadata": {},
   "outputs": [],
   "source": [
    "bool_arr = np.array(select_arr, dtype='bool')"
   ]
  },
  {
   "cell_type": "code",
   "execution_count": 466,
   "id": "83f315d3-f4a0-457f-a06e-0104148be04a",
   "metadata": {},
   "outputs": [
    {
     "data": {
      "text/plain": [
       "(1204, 164)"
      ]
     },
     "execution_count": 466,
     "metadata": {},
     "output_type": "execute_result"
    }
   ],
   "source": [
    "X_test[...,bool_arr].shape"
   ]
  },
  {
   "cell_type": "code",
   "execution_count": 464,
   "id": "e4f441d4-26ac-43b3-acda-3560dd558559",
   "metadata": {},
   "outputs": [
    {
     "data": {
      "text/plain": [
       "(335,)"
      ]
     },
     "execution_count": 464,
     "metadata": {},
     "output_type": "execute_result"
    }
   ],
   "source": [
    "select_arr.shape"
   ]
  },
  {
   "cell_type": "code",
   "execution_count": 296,
   "id": "f5100a33-80e2-40d1-9c80-03ba39fe5a9e",
   "metadata": {},
   "outputs": [
    {
     "name": "stdout",
     "output_type": "stream",
     "text": [
      "The best score is: 0.7959417181644317\n",
      "best features: [  0   1   2   3   4   5   6   7   8   9  10  11  12  13  14  15  16  17\n",
      "  18  19  20  21  22  25  26  27  28  29  30  31  32  33  36  37  38  39\n",
      "  40  43  44  45  46  47  48  49  50  51  52  53  56  57  58  59  60  61\n",
      "  62  67  68  69  70  71  72  74  75  76  77  78  79  80  81  82  83  84\n",
      "  85  86  87  88  89  90  91  92  95  96  97  98  99 101 102 103 104 105\n",
      " 106 107 108 109 110 112 113 114 115 116 117 118 119 120 121 124 125 126\n",
      " 127 128 129 131 134 135 136 137 138 139 140 141 142 143 144 145 146 147\n",
      " 148 150 151 152 153 154 155 156 157 159 160 161 162 164 165 166 169 170\n",
      " 171 172 173 176 177 179 180 181 183 187 188 189 191 192 193 199 200 202\n",
      " 203 204 205 209 210 211 212 213 214 215 216 217 218 220 221 224 225 226\n",
      " 227 228 229 230 231 232 233 234 235 236 237 238 240 241 242 243 244 245\n",
      " 246 247 248 249 250 251 252 253 254 255 256 258 259 261 262 263 264 265\n",
      " 266 267 268 269 270 271 272 273 274 275 277 279 280 281 282 287 289 290\n",
      " 291 292 293 294 295 296 297 298 299 300 301 302 303 304 305 306 307 308\n",
      " 309 310 311 312 313 314 318 320 321 324 327 328 330 331 332 333 334]\n"
     ]
    }
   ],
   "source": [
    "print('The best score is:', best_score)\n",
    "print('best features:', np.where(select_arr==1)[0])"
   ]
  },
  {
   "cell_type": "code",
   "execution_count": 313,
   "id": "baa2265f-bc56-47d4-9f8a-5e39abb58c22",
   "metadata": {},
   "outputs": [],
   "source": [
    "from sklearn.ensemble import GradientBoostingClassifier"
   ]
  },
  {
   "cell_type": "code",
   "execution_count": 365,
   "id": "664c4d6d-8b18-49e3-b9d8-c08ab056ce93",
   "metadata": {},
   "outputs": [
    {
     "data": {
      "text/plain": [
       "0.7425249169435216"
      ]
     },
     "execution_count": 365,
     "metadata": {},
     "output_type": "execute_result"
    }
   ],
   "source": [
    "clf = GradientBoostingClassifier(n_estimators=500, learning_rate=0.05, random_state=156).fit(X_train, np.squeeze(y_train))\n",
    "clf.score(X_test, np.squeeze(y_test))"
   ]
  },
  {
   "cell_type": "markdown",
   "id": "27da6586-0db1-4790-8772-21641f0ed2dd",
   "metadata": {},
   "source": [
    "# XGboost and SVM"
   ]
  },
  {
   "cell_type": "code",
   "execution_count": 383,
   "id": "ecdba671-ea1f-40d7-a76a-cb7462beaadb",
   "metadata": {},
   "outputs": [
    {
     "name": "stdout",
     "output_type": "stream",
     "text": [
      "Test auc is 0.8266496788529356\n",
      "balanced accuarcy score:0.7435079651104946\n"
     ]
    }
   ],
   "source": [
    "y_pred_proba = clf.predict_proba(X_test)[:, 1]\n",
    "fpr, tpr, thresholds = roc_curve(y_test,y_pred_proba)\n",
    "print('Test auc is', auc(fpr, tpr))\n",
    "acc = balanced_accuracy_score(y_test,np.around(y_pred_proba))\n",
    "print(f'balanced accuarcy score:{acc}')"
   ]
  },
  {
   "cell_type": "code",
   "execution_count": 398,
   "id": "331e51b9-55ea-4ceb-8562-9ebb834eb899",
   "metadata": {},
   "outputs": [],
   "source": [
    "from sklearn.svm import SVC"
   ]
  },
  {
   "cell_type": "code",
   "execution_count": 403,
   "id": "11a98104-64c5-4232-805c-124a443ae61d",
   "metadata": {},
   "outputs": [],
   "source": [
    "clf = SVC(gamma='auto')"
   ]
  },
  {
   "cell_type": "code",
   "execution_count": 404,
   "id": "604a2d44-000a-432b-bb18-29138cc0a330",
   "metadata": {},
   "outputs": [
    {
     "name": "stdout",
     "output_type": "stream",
     "text": [
      "Test auc is 0.6958637805808284\n",
      "balanced accuarcy score:0.6958637805808284\n"
     ]
    }
   ],
   "source": [
    "clf.fit(X_train, np.squeeze(y_train))\n",
    "y_pred_proba = clf.predict(X_test)\n",
    "fpr, tpr, thresholds = roc_curve(y_test,y_pred_proba)\n",
    "print('Test auc is', auc(fpr, tpr))\n",
    "acc = balanced_accuracy_score(y_test,np.around(y_pred_proba))\n",
    "print(f'balanced accuarcy score:{acc}')"
   ]
  },
  {
   "cell_type": "code",
   "execution_count": 423,
   "id": "41823ccf-5dce-4656-a05c-b1bfc6c7a569",
   "metadata": {},
   "outputs": [],
   "source": [
    "# # estimator = SVC(kernel=\"linear\")\n",
    "# estimiator = GradientBoostingClassifier(n_estimators=500, learning_rate=0.05, random_state=156)\n",
    "# selector = RFE(estimator, n_features_to_select=5, step=1)\n",
    "# selector = selector.fit(X_train, np.squeeze(y_train))"
   ]
  },
  {
   "cell_type": "code",
   "execution_count": 425,
   "id": "eaa2db9a-c93a-430f-b1d7-510da59a1616",
   "metadata": {},
   "outputs": [],
   "source": [
    "from sklearn.linear_model import LogisticRegression"
   ]
  },
  {
   "cell_type": "code",
   "execution_count": 428,
   "id": "dde50c13-f1e0-4007-a933-baa2176f05ac",
   "metadata": {},
   "outputs": [
    {
     "name": "stdout",
     "output_type": "stream",
     "text": [
      "Test auc is 0.7073664835225577\n",
      "balanced accuarcy score:0.7073664835225577\n"
     ]
    }
   ],
   "source": [
    "clf = LogisticRegression(penalty='l1',solver='liblinear')\n",
    "clf.fit(X_train, np.squeeze(y_train))\n",
    "y_pred_proba = clf.predict(X_test)\n",
    "fpr, tpr, thresholds = roc_curve(y_test,y_pred_proba)\n",
    "print('Test auc is', auc(fpr, tpr))\n",
    "acc = balanced_accuracy_score(y_test,np.around(y_pred_proba))\n",
    "print(f'balanced accuarcy score:{acc}')"
   ]
  },
  {
   "cell_type": "code",
   "execution_count": 439,
   "id": "888d6f25-f136-413e-a63a-f0e52401e20d",
   "metadata": {},
   "outputs": [],
   "source": [
    "coef = clf.coef_"
   ]
  },
  {
   "cell_type": "code",
   "execution_count": 447,
   "id": "60cb8937-4949-4c11-a078-418df240bbdb",
   "metadata": {},
   "outputs": [
    {
     "data": {
      "text/plain": [
       "array([-4.66449368])"
      ]
     },
     "execution_count": 447,
     "metadata": {},
     "output_type": "execute_result"
    }
   ],
   "source": [
    "coef[:,334]"
   ]
  },
  {
   "cell_type": "code",
   "execution_count": 445,
   "id": "02ab466e-4a75-4596-9087-1e74cf213e4c",
   "metadata": {},
   "outputs": [
    {
     "data": {
      "text/plain": [
       "array([  0,   1,   2,  12,  13,  17,  20,  21,  22,  25,  26,  27,  28,\n",
       "        30,  36,  43,  44,  46,  47,  48,  52,  53,  56,  57,  58,  67,\n",
       "        68,  69,  70,  72,  74,  78,  80,  84,  85, 102, 104, 105, 134,\n",
       "       136, 137, 140, 142, 144, 148, 150, 164, 173, 176, 188, 202, 229,\n",
       "       233, 235, 245, 246, 248, 249, 252, 253, 256, 261, 262, 263, 279,\n",
       "       280, 282, 292, 294, 295, 297, 299, 334])"
      ]
     },
     "execution_count": 445,
     "metadata": {},
     "output_type": "execute_result"
    }
   ],
   "source": [
    "np.where(coef!=0)[1]"
   ]
  },
  {
   "cell_type": "code",
   "execution_count": 450,
   "id": "196a7e32-eede-499d-9102-3a0d40df24dc",
   "metadata": {},
   "outputs": [],
   "source": [
    "non_zero_coef = coef[:,np.where(coef!=0)[1]]"
   ]
  },
  {
   "cell_type": "code",
   "execution_count": 451,
   "id": "18c190db-1526-4ef0-9c7c-361d5107a093",
   "metadata": {},
   "outputs": [
    {
     "data": {
      "text/plain": [
       "(1, 73)"
      ]
     },
     "execution_count": 451,
     "metadata": {},
     "output_type": "execute_result"
    }
   ],
   "source": [
    "non_zero_coef.shape"
   ]
  }
 ],
 "metadata": {
  "kernelspec": {
   "display_name": "CM",
   "language": "python",
   "name": "cm"
  },
  "language_info": {
   "codemirror_mode": {
    "name": "ipython",
    "version": 3
   },
   "file_extension": ".py",
   "mimetype": "text/x-python",
   "name": "python",
   "nbconvert_exporter": "python",
   "pygments_lexer": "ipython3",
   "version": "3.11.9"
  }
 },
 "nbformat": 4,
 "nbformat_minor": 5
}
