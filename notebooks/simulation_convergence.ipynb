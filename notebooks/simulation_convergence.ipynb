{
 "cells": [
  {
   "cell_type": "code",
   "execution_count": 1,
   "id": "27f2becc-f3ca-4f4d-b8fe-d133504c8192",
   "metadata": {},
   "outputs": [],
   "source": [
    "%reload_ext autoreload\n",
    "%reload_ext autoreload"
   ]
  },
  {
   "cell_type": "code",
   "execution_count": 2,
   "id": "8975b501-9d6f-4289-88f2-b196a9388daa",
   "metadata": {},
   "outputs": [],
   "source": [
    "import time\n",
    "import os\n",
    "import sys\n",
    "import copy\n",
    "import time\n",
    "import datetime\n",
    "import random\n",
    "import math\n",
    "import warnings\n",
    "from functools import partial\n",
    "# warnings.filterwarnings('ignore')"
   ]
  },
  {
   "cell_type": "code",
   "execution_count": 3,
   "id": "a6b41a85-783f-4ef9-a21e-0c64a8fa1c2d",
   "metadata": {},
   "outputs": [
    {
     "name": "stderr",
     "output_type": "stream",
     "text": [
      "/home/geshi/.local/lib/python3.10/site-packages/tqdm/auto.py:21: TqdmWarning: IProgress not found. Please update jupyter and ipywidgets. See https://ipywidgets.readthedocs.io/en/stable/user_install.html\n",
      "  from .autonotebook import tqdm as notebook_tqdm\n"
     ]
    }
   ],
   "source": [
    "import torch\n",
    "import torch.nn.functional as F\n",
    "from torch import nn\n",
    "from torch.utils.data import TensorDataset, DataLoader\n",
    "from torch import Tensor\n",
    "import torch.optim as optim\n",
    "from torch.optim import lr_scheduler\n",
    "import torch.backends.cudnn as cudnn"
   ]
  },
  {
   "cell_type": "code",
   "execution_count": 4,
   "id": "d5d7d9e5-7545-4be8-8f4c-6f74b4adb275",
   "metadata": {},
   "outputs": [],
   "source": [
    "import numpy as np\n",
    "import scipy\n",
    "from scipy.stats import kendalltau\n",
    "import seaborn as sns\n",
    "\n",
    "from tqdm.notebook import tqdm, trange"
   ]
  },
  {
   "cell_type": "code",
   "execution_count": 5,
   "id": "fe7a6199-f38b-4d00-8e86-713f32a84e05",
   "metadata": {},
   "outputs": [],
   "source": [
    "sys.path.append(\"../\")"
   ]
  },
  {
   "cell_type": "code",
   "execution_count": 6,
   "id": "92e6101e-cde2-4ed7-a36c-c25cbea54d88",
   "metadata": {},
   "outputs": [],
   "source": [
    "from chaosmining.data_utils import read_formulas, create_simulation_data\n",
    "from chaosmining.simulation.models import MLPRegressor\n",
    "from chaosmining.simulation.functions import abs_argmax_topk\n",
    "from chaosmining.utils import radar_factory"
   ]
  },
  {
   "cell_type": "code",
   "execution_count": 7,
   "id": "8f94e9ef-b5ff-4bf1-9f32-50e871879546",
   "metadata": {},
   "outputs": [],
   "source": [
    "from sklearn.model_selection import train_test_split\n",
    "from sklearn.metrics import mean_absolute_error"
   ]
  },
  {
   "cell_type": "code",
   "execution_count": 8,
   "id": "dcc8d87a-a388-4423-afda-5c8cfa67df9b",
   "metadata": {},
   "outputs": [],
   "source": [
    "from captum.attr import IntegratedGradients, Saliency, DeepLift, FeatureAblation"
   ]
  },
  {
   "cell_type": "code",
   "execution_count": 9,
   "id": "e054f29e-9647-4582-b03a-1ea270715390",
   "metadata": {},
   "outputs": [],
   "source": [
    "import matplotlib\n",
    "# mpl.use('Agg')\n",
    "%matplotlib inline\n",
    "import matplotlib.pyplot as plt\n",
    "from matplotlib import pyplot as plt \n",
    "from matplotlib.colors import ListedColormap\n",
    "\n",
    "matplotlib.rcParams['lines.linewidth'] = 1\n",
    "matplotlib.rcParams['lines.markersize'] = 5\n",
    "plt.rcParams['figure.figsize'] = [4, 4]"
   ]
  },
  {
   "cell_type": "markdown",
   "id": "fecb3965-1d2a-4ba9-90de-86b1201e0ece",
   "metadata": {},
   "source": [
    "# Generate Functions and Data"
   ]
  },
  {
   "cell_type": "code",
   "execution_count": 10,
   "id": "b70fe02d-9ea8-43cb-b160-e69088e910d5",
   "metadata": {},
   "outputs": [],
   "source": [
    "formulas_path = '../data/symbolic_simulation/formula.csv'"
   ]
  },
  {
   "cell_type": "code",
   "execution_count": 11,
   "id": "4f052533-51a6-4a45-a99d-6dd616a38da0",
   "metadata": {},
   "outputs": [],
   "source": [
    "formulas = read_formulas(formulas_path)"
   ]
  },
  {
   "cell_type": "code",
   "execution_count": 12,
   "id": "b2c978cc-c1c3-453d-a268-e97bc87940c2",
   "metadata": {},
   "outputs": [],
   "source": [
    "formula_id = 14\n",
    "seed = 9999\n",
    "test_size = 0.2\n",
    "n_steps = 20"
   ]
  },
  {
   "cell_type": "code",
   "execution_count": 13,
   "id": "68e12b48-435c-4ccd-9f85-2c1ec95e47a7",
   "metadata": {},
   "outputs": [],
   "source": [
    "num_features, function = formulas[formula_id]"
   ]
  },
  {
   "cell_type": "code",
   "execution_count": 14,
   "id": "bd42db5c-aa7e-43a8-a875-fc37f202f9bc",
   "metadata": {},
   "outputs": [
    {
     "name": "stdout",
     "output_type": "stream",
     "text": [
      "X (10000, 210) y true (10000, 1) y noise (10000, 1) intercepts 10 (10000,) derivatives 10 (10000,) integrations 10 (10000,)\n"
     ]
    }
   ],
   "source": [
    "num_noises = 200\n",
    "num_data = 10000\n",
    "X_var = 0.33\n",
    "y_var = 0.01\n",
    "X, y_true, y_noise, intercepts, derivatives, integrations = create_simulation_data(function, num_features, num_noises, num_data, X_var, y_var, n_steps=n_steps)\n",
    "print('X', X.shape, 'y true', y_true.shape, 'y noise', y_noise.shape, \n",
    "      'intercepts', len(intercepts), intercepts[0].shape,\n",
    "      'derivatives', len(derivatives), derivatives[0].shape, \n",
    "      'integrations', len(integrations), integrations[0].shape)"
   ]
  },
  {
   "cell_type": "code",
   "execution_count": 15,
   "id": "cfa446f3-9cfd-4a9e-8cc6-e9741e822af3",
   "metadata": {},
   "outputs": [],
   "source": [
    "intercepts = np.stack(intercepts, axis=1)\n",
    "derivatives = np.stack(derivatives, axis=1)\n",
    "integrations = np.stack(integrations, axis=1)"
   ]
  },
  {
   "cell_type": "code",
   "execution_count": 16,
   "id": "196aedd7-7bcc-440a-968f-444a6fb33a9e",
   "metadata": {},
   "outputs": [],
   "source": [
    "y = y_true + y_noise"
   ]
  },
  {
   "cell_type": "code",
   "execution_count": 17,
   "id": "cb2db11b-a6bb-4811-99e4-92d8d84c4921",
   "metadata": {},
   "outputs": [],
   "source": [
    "X_train, X_test, \\\n",
    "y_train, y_test, \\\n",
    "y_true_train, y_true_test, \\\n",
    "intercepts_train, intercepts_test, \\\n",
    "derivatives_train, derivatives_test, \\\n",
    "integrations_train, integrations_test \\\n",
    "= train_test_split(X, y, y_true, intercepts, derivatives, integrations, test_size=test_size, random_state=seed)"
   ]
  },
  {
   "cell_type": "markdown",
   "id": "a01eb642-7e9f-4884-b33d-5d107495bdfe",
   "metadata": {},
   "source": [
    "# Training and Test a MLP"
   ]
  },
  {
   "cell_type": "code",
   "execution_count": 85,
   "id": "03b69928-b490-4257-8787-aba2ceb8c72d",
   "metadata": {},
   "outputs": [],
   "source": [
    "train_set = TensorDataset(Tensor(X_train), Tensor(y_train))\n",
    "train_loader = DataLoader(train_set, batch_size=y_train.shape[0], shuffle=True)\n",
    "test_set = TensorDataset(Tensor(X_test), Tensor(y_true_test))\n",
    "test_loader = DataLoader(test_set, batch_size=y_test.shape[0])"
   ]
  },
  {
   "cell_type": "code",
   "execution_count": 86,
   "id": "069d51e4-28a0-4c9a-a284-efffb8f5ab80",
   "metadata": {},
   "outputs": [],
   "source": [
    "hidden_layer_sizes = (100,100,100)\n",
    "num_epochs = 1000"
   ]
  },
  {
   "cell_type": "code",
   "execution_count": 87,
   "id": "0e5b067b-3b59-44a3-bd61-0931f28398ca",
   "metadata": {},
   "outputs": [],
   "source": [
    "device = torch.device('cuda:0' if torch.cuda.is_available() else 'cpu')"
   ]
  },
  {
   "cell_type": "code",
   "execution_count": 88,
   "id": "5911ef9a-9822-4656-b389-b01523fa07ef",
   "metadata": {},
   "outputs": [
    {
     "data": {
      "text/plain": [
       "MLPRegressor(\n",
       "  (blocks): ModuleList(\n",
       "    (0): LinearBlock(\n",
       "      (net): Sequential(\n",
       "        (0): Linear(in_features=210, out_features=100, bias=True)\n",
       "        (1): GELU(approximate='none')\n",
       "      )\n",
       "    )\n",
       "    (1): LinearBlock(\n",
       "      (net): Sequential(\n",
       "        (0): Linear(in_features=100, out_features=100, bias=True)\n",
       "        (1): GELU(approximate='none')\n",
       "      )\n",
       "    )\n",
       "    (2): LinearBlock(\n",
       "      (net): Sequential(\n",
       "        (0): Linear(in_features=100, out_features=100, bias=True)\n",
       "        (1): GELU(approximate='none')\n",
       "      )\n",
       "    )\n",
       "  )\n",
       "  (dropout): Dropout(p=0.0, inplace=False)\n",
       "  (project): Linear(in_features=100, out_features=1, bias=True)\n",
       ")"
      ]
     },
     "execution_count": 88,
     "metadata": {},
     "output_type": "execute_result"
    }
   ],
   "source": [
    "model = MLPRegressor(num_features+num_noises, hidden_layer_sizes, p=0.0)\n",
    "model.to(device)\n",
    "model.train()"
   ]
  },
  {
   "cell_type": "code",
   "execution_count": 89,
   "id": "f46068f1-8b8c-4aa5-88b1-7b2d4c982d8a",
   "metadata": {},
   "outputs": [],
   "source": [
    "criterion = nn.MSELoss(reduction='mean')\n",
    "optimizer = torch.optim.Adam(model.parameters(), 0.001)"
   ]
  },
  {
   "cell_type": "code",
   "execution_count": 90,
   "id": "b67f745e-e4d5-4ede-9551-7044af40ff1a",
   "metadata": {},
   "outputs": [],
   "source": [
    "trace_inds = []"
   ]
  },
  {
   "cell_type": "code",
   "execution_count": 91,
   "id": "8da5584b-ee82-4ae5-b999-2a335843dead",
   "metadata": {},
   "outputs": [
    {
     "name": "stdout",
     "output_type": "stream",
     "text": [
      "train loss: 7.585010280308779e-06\n"
     ]
    }
   ],
   "source": [
    "pbar = trange(num_epochs, desc='Train', unit='epoch', initial=0, disable=True)\n",
    "for epoch in pbar:  # loop over the dataset multiple times\n",
    "    running_loss = 0.0\n",
    "    model.train()\n",
    "    for inputs, targets in train_loader:\n",
    "        inputs = inputs.to(device)\n",
    "        targets = targets.to(device)\n",
    "        # forward pass\n",
    "        outputs = model(inputs)\n",
    "        # defining loss\n",
    "        loss = criterion(outputs, targets)\n",
    "        # zero the parameter gradients\n",
    "        optimizer.zero_grad()\n",
    "        # computing gradients\n",
    "        loss.backward()\n",
    "        # accumulating running loss\n",
    "        running_loss += loss.item()\n",
    "        # updated weights based on computed gradients\n",
    "        optimizer.step()\n",
    "    pbar.set_postfix(loss = '%.3f' % running_loss)\n",
    "\n",
    "    model.eval()\n",
    "    with torch.no_grad():\n",
    "        y_pred = model(Tensor(X_test).to(device)).detach().cpu().numpy()\n",
    "\n",
    "    xai = Saliency(model)\n",
    "    # xai = DeepLift(model)\n",
    "    # xai = FeatureAblation(model)\n",
    "    # xai = IntegratedGradients(model)\n",
    "\n",
    "    xai_attr_test = xai.attribute(Tensor(X_test).to(device))\n",
    "    abs_xai_attr_test = np.abs(xai_attr_test.detach().cpu().numpy()).mean(0)\n",
    "\n",
    "    # sorted_inds = np.argsort(abs_xai_attr_test)\n",
    "    # trace_inds.append(sorted_inds[:num_features])\n",
    "    inds = np.argpartition(-abs_xai_attr_test, num_features)[:num_features]\n",
    "    trace_inds.append(inds)\n",
    "\n",
    "print('train loss:', running_loss)"
   ]
  },
  {
   "cell_type": "code",
   "execution_count": 92,
   "id": "783b0c2f-62a8-4fa6-935f-ae4601885c55",
   "metadata": {},
   "outputs": [],
   "source": [
    "last_inds = trace_inds[-1]\n",
    "corrs = []"
   ]
  },
  {
   "cell_type": "code",
   "execution_count": 93,
   "id": "add7752b-4f60-4126-8f9d-2718b878fdde",
   "metadata": {},
   "outputs": [],
   "source": [
    "for inds in trace_inds:\n",
    "    corr = kendalltau(inds, last_inds)\n",
    "    corrs.append(corr[0])"
   ]
  },
  {
   "cell_type": "code",
   "execution_count": 94,
   "id": "72fa90c7-ce8b-4bd9-866e-feaac9e3fe0e",
   "metadata": {},
   "outputs": [
    {
     "data": {
      "image/png": "[encoded data removed]",
      "text/plain": [
       "<Figure size 400x400 with 1 Axes>"
      ]
     },
     "metadata": {},
     "output_type": "display_data"
    }
   ],
   "source": [
    "plt.plot(np.arange(1, len(corrs)+1), np.array(corrs))\n",
    "plt.title(\"Curve plotted using the given points\")\n",
    "plt.xlabel(\"X\")\n",
    "plt.ylabel(\"Y\")\n",
    "plt.show()"
   ]
  },
  {
   "cell_type": "markdown",
   "id": "5d687d80-5386-4ce7-874d-c4f72b1ee50f",
   "metadata": {},
   "source": [
    "# Single Formula Convergence"
   ]
  },
  {
   "cell_type": "code",
   "execution_count": null,
   "id": "3d06854f-9d95-4bf2-8ab0-a06555145f95",
   "metadata": {},
   "outputs": [],
   "source": []
  }
 ],
 "metadata": {
  "kernelspec": {
   "display_name": "Python 3 (ipykernel)",
   "language": "python",
   "name": "python3"
  },
  "language_info": {
   "codemirror_mode": {
    "name": "ipython",
    "version": 3
   },
   "file_extension": ".py",
   "mimetype": "text/x-python",
   "name": "python",
   "nbconvert_exporter": "python",
   "pygments_lexer": "ipython3",
   "version": "3.10.12"
  }
 },
 "nbformat": 4,
 "nbformat_minor": 5
}
