{
 "cells": [
  {
   "cell_type": "code",
   "execution_count": 1,
   "id": "27f2becc-f3ca-4f4d-b8fe-d133504c8192",
   "metadata": {},
   "outputs": [],
   "source": [
    "%reload_ext autoreload\n",
    "%reload_ext autoreload"
   ]
  },
  {
   "cell_type": "code",
   "execution_count": 2,
   "id": "8975b501-9d6f-4289-88f2-b196a9388daa",
   "metadata": {},
   "outputs": [],
   "source": [
    "import time\n",
    "import os\n",
    "import sys\n",
    "import copy\n",
    "import time\n",
    "import datetime\n",
    "import random\n",
    "import math\n",
    "import warnings\n",
    "from functools import partial\n",
    "# warnings.filterwarnings('ignore')"
   ]
  },
  {
   "cell_type": "code",
   "execution_count": 3,
   "id": "a6b41a85-783f-4ef9-a21e-0c64a8fa1c2d",
   "metadata": {},
   "outputs": [],
   "source": [
    "import torch\n",
    "import torch.nn.functional as F\n",
    "from torch import nn\n",
    "from torch.utils.data import TensorDataset, DataLoader\n",
    "from torch import Tensor\n",
    "import torch.optim as optim\n",
    "from torch.optim import lr_scheduler\n",
    "import torch.backends.cudnn as cudnn"
   ]
  },
  {
   "cell_type": "code",
   "execution_count": 4,
   "id": "d5d7d9e5-7545-4be8-8f4c-6f74b4adb275",
   "metadata": {},
   "outputs": [],
   "source": [
    "import numpy as np\n",
    "import scipy\n",
    "import seaborn as sns\n",
    "\n",
    "from tqdm.notebook import tqdm, trange"
   ]
  },
  {
   "cell_type": "code",
   "execution_count": 5,
   "id": "fe7a6199-f38b-4d00-8e86-713f32a84e05",
   "metadata": {},
   "outputs": [],
   "source": [
    "sys.path.append(\"../\")"
   ]
  },
  {
   "cell_type": "code",
   "execution_count": 6,
   "id": "92e6101e-cde2-4ed7-a36c-c25cbea54d88",
   "metadata": {},
   "outputs": [],
   "source": [
    "from chaosmining.data_utils import read_formulas, create_simulation_data\n",
    "from chaosmining.simulation.models import MLPRegressor\n",
    "from chaosmining.simulation.functions import abs_argmax_topk\n",
    "from chaosmining.utils import radar_factory"
   ]
  },
  {
   "cell_type": "code",
   "execution_count": 7,
   "id": "8f94e9ef-b5ff-4bf1-9f32-50e871879546",
   "metadata": {},
   "outputs": [],
   "source": [
    "from sklearn.model_selection import train_test_split\n",
    "from sklearn.metrics import mean_absolute_error"
   ]
  },
  {
   "cell_type": "code",
   "execution_count": 8,
   "id": "dcc8d87a-a388-4423-afda-5c8cfa67df9b",
   "metadata": {},
   "outputs": [],
   "source": [
    "from captum.attr import IntegratedGradients, Saliency, DeepLift, FeatureAblation"
   ]
  },
  {
   "cell_type": "code",
   "execution_count": 9,
   "id": "e054f29e-9647-4582-b03a-1ea270715390",
   "metadata": {},
   "outputs": [],
   "source": [
    "import matplotlib\n",
    "# mpl.use('Agg')\n",
    "%matplotlib inline\n",
    "import matplotlib.pyplot as plt\n",
    "from matplotlib import pyplot as plt \n",
    "from matplotlib.colors import ListedColormap\n",
    "\n",
    "matplotlib.rcParams['lines.linewidth'] = 1\n",
    "matplotlib.rcParams['lines.markersize'] = 5\n",
    "plt.rcParams['figure.figsize'] = [4, 4]"
   ]
  },
  {
   "cell_type": "markdown",
   "id": "fecb3965-1d2a-4ba9-90de-86b1201e0ece",
   "metadata": {},
   "source": [
    "# Generate Functions and Data"
   ]
  },
  {
   "cell_type": "code",
   "execution_count": 10,
   "id": "b70fe02d-9ea8-43cb-b160-e69088e910d5",
   "metadata": {},
   "outputs": [],
   "source": [
    "formulas_path = '../data/symbolic_simulation/formula.csv'"
   ]
  },
  {
   "cell_type": "code",
   "execution_count": 11,
   "id": "4f052533-51a6-4a45-a99d-6dd616a38da0",
   "metadata": {},
   "outputs": [],
   "source": [
    "formulas = read_formulas(formulas_path)"
   ]
  },
  {
   "cell_type": "code",
   "execution_count": 12,
   "id": "cf6bd9f1-77ca-4655-b664-0dd7261bdf10",
   "metadata": {},
   "outputs": [
    {
     "data": {
      "text/plain": [
       "[[1, 'a'],\n",
       " [1, 'a**2'],\n",
       " [1, '2/(a**2+1)-1'],\n",
       " [1, 'sin(a)'],\n",
       " [1, 'E**a-1.5'],\n",
       " [1, '2*log(a**2+1)-1'],\n",
       " [2, '0.25*a**3+0.75*b**2'],\n",
       " [3, '0.5*a**3+0.75*b**2+a*c'],\n",
       " [4, '0.5*E**a*sin(b)-0.25*cos(d)**5/(c**2+1)'],\n",
       " [5, '0.5*(a-b)**2+0.2*(c+d*e)**3-0.5'],\n",
       " [6, '0.5*cos(a)*tan(b)-log((c-d)**2+1)/((e+f+1)**2+1)'],\n",
       " [7, '0.5*(b-c)**2/(a**2+1)+tan(d)*log(e**2+1)+0.5*cos(f)*sin(g)'],\n",
       " [8,\n",
       "  'a+(1/2)*b**2+(1/3)*c**3+(1/4)*d**4+(1/5)*e**5+(1/6)*f**6+(1/7)*f**7+(1/8)*g**8'],\n",
       " [9,\n",
       "  '0.5*(a-1)/(b**2+1)-0.5*c**3/(d**2+1)+0.5*e**5/(f**2+1)-0.5*g**7/(h**2+1)+0.5*tan(i)+0.5'],\n",
       " [10,\n",
       "  '0.5*sin(a)-0.5*b**3-log(c**2+1)+0.5*((d+e)**2+1)**(1/2)-0.5*cos(f)*g+h*i**2/((1-j)**2+1)-0.5']]"
      ]
     },
     "execution_count": 12,
     "metadata": {},
     "output_type": "execute_result"
    }
   ],
   "source": [
    "formulas"
   ]
  },
  {
   "cell_type": "code",
   "execution_count": 13,
   "id": "b2c978cc-c1c3-453d-a268-e97bc87940c2",
   "metadata": {},
   "outputs": [],
   "source": [
    "formula_id = 14\n",
    "seed = 42\n",
    "test_size = 0.2\n",
    "n_steps = 20"
   ]
  },
  {
   "cell_type": "code",
   "execution_count": 14,
   "id": "68e12b48-435c-4ccd-9f85-2c1ec95e47a7",
   "metadata": {},
   "outputs": [],
   "source": [
    "num_features, function = formulas[formula_id]"
   ]
  },
  {
   "cell_type": "code",
   "execution_count": 16,
   "id": "bd42db5c-aa7e-43a8-a875-fc37f202f9bc",
   "metadata": {},
   "outputs": [
    {
     "name": "stdout",
     "output_type": "stream",
     "text": [
      "X (10000, 210) y true (10000, 1) y noise (10000, 1) intercepts 10 (10000,) derivatives 10 (10000,) integrations 10 (10000,)\n"
     ]
    }
   ],
   "source": [
    "num_noises = 150\n",
    "num_data = 10000\n",
    "X_var = 0.33\n",
    "y_var = 0.01\n",
    "X, y_true, y_noise, intercepts, derivatives, integrations = create_simulation_data(function, num_features, num_noises, num_data, X_var, y_var, n_steps=n_steps)\n",
    "print('X', X.shape, 'y true', y_true.shape, 'y noise', y_noise.shape, \n",
    "      'intercepts', len(intercepts), intercepts[0].shape,\n",
    "      'derivatives', len(derivatives), derivatives[0].shape, \n",
    "      'integrations', len(integrations), integrations[0].shape)"
   ]
  },
  {
   "cell_type": "code",
   "execution_count": 17,
   "id": "cfa446f3-9cfd-4a9e-8cc6-e9741e822af3",
   "metadata": {},
   "outputs": [],
   "source": [
    "intercepts = np.stack(intercepts, axis=1)\n",
    "derivatives = np.stack(derivatives, axis=1)\n",
    "integrations = np.stack(integrations, axis=1)"
   ]
  },
  {
   "cell_type": "code",
   "execution_count": 20,
   "id": "196aedd7-7bcc-440a-968f-444a6fb33a9e",
   "metadata": {},
   "outputs": [],
   "source": [
    "y = y_true + y_noise"
   ]
  },
  {
   "cell_type": "code",
   "execution_count": 21,
   "id": "cb2db11b-a6bb-4811-99e4-92d8d84c4921",
   "metadata": {},
   "outputs": [],
   "source": [
    "X_train, X_test, \\\n",
    "y_train, y_test, \\\n",
    "y_true_train, y_true_test, \\\n",
    "intercepts_train, intercepts_test, \\\n",
    "derivatives_train, derivatives_test, \\\n",
    "integrations_train, integrations_test \\\n",
    "= train_test_split(X, y, y_true, intercepts, derivatives, integrations, test_size=test_size, random_state=seed)"
   ]
  },
  {
   "cell_type": "markdown",
   "id": "5d687d80-5386-4ce7-874d-c4f72b1ee50f",
   "metadata": {},
   "source": [
    "# Iterative Method"
   ]
  },
  {
   "cell_type": "code",
   "execution_count": 24,
   "id": "30ddcef4-2713-4b50-8bb3-c3731e70f772",
   "metadata": {},
   "outputs": [],
   "source": [
    "from sklearn.linear_model import LinearRegression \n",
    "from sklearn.svm import SVR\n",
    "from sklearn.tree import DecisionTreeRegressor\n",
    "from sklearn.feature_selection import RFE"
   ]
  },
  {
   "cell_type": "code",
   "execution_count": 28,
   "id": "9a234c87-71ce-4841-87e4-907f1c02ff3f",
   "metadata": {},
   "outputs": [],
   "source": [
    "def get_estimator(method):\n",
    "    if method =='linear':\n",
    "        estimator = LinearRegression()\n",
    "    elif method == 'SVM':\n",
    "        estimator = SVR(kernel = 'linear') \n",
    "    elif method =='DT':\n",
    "        estimator = DecisionTreeRegressor()\n",
    "    else:\n",
    "        raise 'wrong method'\n",
    "    return estimator"
   ]
  },
  {
   "cell_type": "code",
   "execution_count": 36,
   "id": "30b033f6-cb86-48c5-8b6e-62739a99ad3f",
   "metadata": {},
   "outputs": [
    {
     "name": "stdout",
     "output_type": "stream",
     "text": [
      "now executing formula: 10\n",
      "X (10000, 156) y true (10000, 1) y noise (10000, 1) intercepts 6 (10000,) derivatives 6 (10000,) integrations 6 (10000,)\n",
      "156.0\n",
      "With 156 features SVM mae score is 0.0898943777370214,precision is 0.038461538461538464, recall is 1.0\n",
      "With 78 features SVM mae score is 0.08964109956137514,precision is 0.07692307692307693, recall is 1.0\n",
      "With 39 features SVM mae score is 0.08960915519046392,precision is 0.15384615384615385, recall is 1.0\n",
      "With 20 features SVM mae score is 0.0896066093762312,precision is 0.25, recall is 0.8333333333333334\n",
      "With 10 features SVM mae score is 0.08966455513540197,precision is 0.5, recall is 0.8333333333333334\n",
      "With 6 features SVM mae score is 0.0896865667649549,precision is 0.8333333333333334, recall is 0.8333333333333334\n",
      "now executing formula: 11\n",
      "X (10000, 157) y true (10000, 1) y noise (10000, 1) intercepts 7 (10000,) derivatives 7 (10000,) integrations 7 (10000,)\n",
      "157.0\n",
      "With 157 features SVM mae score is 0.10236473372490366,precision is 0.044585987261146494, recall is 1.0\n",
      "With 79 features SVM mae score is 0.1023359517637549,precision is 0.06329113924050633, recall is 0.7142857142857143\n",
      "With 40 features SVM mae score is 0.10199458419172819,precision is 0.075, recall is 0.42857142857142855\n",
      "With 20 features SVM mae score is 0.10186536518882316,precision is 0.15, recall is 0.42857142857142855\n",
      "With 10 features SVM mae score is 0.10165796874829493,precision is 0.2, recall is 0.2857142857142857\n",
      "With 7 features SVM mae score is 0.10180881403057529,precision is 0.2857142857142857, recall is 0.2857142857142857\n",
      "now executing formula: 12\n",
      "X (10000, 158) y true (10000, 1) y noise (10000, 1) intercepts 8 (10000,) derivatives 8 (10000,) integrations 8 (10000,)\n",
      "158.0\n",
      "With 158 features SVM mae score is 0.06856475774590091,precision is 0.05063291139240506, recall is 1.0\n",
      "With 79 features SVM mae score is 0.06850949256176063,precision is 0.06329113924050633, recall is 0.625\n",
      "With 40 features SVM mae score is 0.06869739663548988,precision is 0.125, recall is 0.625\n",
      "With 20 features SVM mae score is 0.06863196489172205,precision is 0.2, recall is 0.5\n",
      "With 10 features SVM mae score is 0.06861889243122143,precision is 0.4, recall is 0.5\n",
      "With 8 features SVM mae score is 0.06864697727189809,precision is 0.5, recall is 0.5\n",
      "now executing formula: 13\n",
      "X (10000, 159) y true (10000, 1) y noise (10000, 1) intercepts 9 (10000,) derivatives 9 (10000,) integrations 9 (10000,)\n",
      "159.0\n",
      "With 159 features SVM mae score is 0.059668622497443265,precision is 0.05660377358490566, recall is 1.0\n",
      "With 80 features SVM mae score is 0.059477120402808184,precision is 0.0875, recall is 0.7777777777777778\n",
      "With 40 features SVM mae score is 0.05898587347227929,precision is 0.15, recall is 0.6666666666666666\n",
      "With 20 features SVM mae score is 0.05880815479278681,precision is 0.25, recall is 0.5555555555555556\n",
      "With 10 features SVM mae score is 0.058214357209354854,precision is 0.5, recall is 0.5555555555555556\n",
      "With 9 features SVM mae score is 0.05813415182884653,precision is 0.5555555555555556, recall is 0.5555555555555556\n",
      "now executing formula: 14\n",
      "X (10000, 160) y true (10000, 1) y noise (10000, 1) intercepts 10 (10000,) derivatives 10 (10000,) integrations 10 (10000,)\n",
      "160.0\n",
      "With 160 features SVM mae score is 0.10317909039555813,precision is 0.0625, recall is 1.0\n",
      "With 80 features SVM mae score is 0.10298888138823355,precision is 0.1125, recall is 0.9\n",
      "With 40 features SVM mae score is 0.10237811152121938,precision is 0.175, recall is 0.7\n",
      "With 20 features SVM mae score is 0.10225840934590258,precision is 0.3, recall is 0.6\n",
      "With 10 features SVM mae score is 0.10205102611159801,precision is 0.5, recall is 0.5\n"
     ]
    }
   ],
   "source": [
    "import pickle\n",
    "def calculate_precision_and_recall(a, b):\n",
    "    set_a = set(a)\n",
    "    set_b = set(b)\n",
    "    intersection_count = len(set_a & set_b)\n",
    "    recall = intersection_count / len(set_a)\n",
    "    precision = intersection_count / len(set_b)\n",
    "    \n",
    "    return precision, recall\n",
    "\n",
    "for formula_id in range(10,15):\n",
    "    print(f'now executing formula: {formula_id}')\n",
    "    num_features, function = formulas[formula_id]\n",
    "    num_noises = 150\n",
    "    num_data = 10000\n",
    "    X_var = 0.33\n",
    "    y_var = 0.01\n",
    "    seed = 42\n",
    "    test_size = 0.2\n",
    "    n_steps = 20\n",
    "    X, y_true, y_noise, intercepts, derivatives, integrations = create_simulation_data(function, num_features, num_noises, num_data, X_var, y_var, n_steps=n_steps)\n",
    "    print('X', X.shape, 'y true', y_true.shape, 'y noise', y_noise.shape, \n",
    "          'intercepts', len(intercepts), intercepts[0].shape,\n",
    "          'derivatives', len(derivatives), derivatives[0].shape, \n",
    "          'integrations', len(integrations), integrations[0].shape)\n",
    "    gt_features = np.array([i for i in range(num_features)]) # useful features are the first num_features\n",
    "    num_select = num_features # select exact this number of features\n",
    "    repeats_times = 1\n",
    "    intercepts = np.stack(intercepts, axis=1)\n",
    "    derivatives = np.stack(derivatives, axis=1)\n",
    "    integrations = np.stack(integrations, axis=1)\n",
    "    y = y_true + y_noise\n",
    "    X_train, X_test, \\\n",
    "    y_train, y_test, \\\n",
    "    y_true_train, y_true_test, \\\n",
    "    intercepts_train, intercepts_test, \\\n",
    "    derivatives_train, derivatives_test, \\\n",
    "    integrations_train, integrations_test \\\n",
    "    = train_test_split(X, y, y_true, intercepts, derivatives, integrations, test_size=test_size, random_state=seed)\n",
    "    # for method in ['linear','DT']:\n",
    "    for method in ['SVM']:\n",
    "        for repeat in range(1,repeats_times+1):\n",
    "            \n",
    "\n",
    "            reduce_rate = 0.5\n",
    "            num_cur_features = num_features+num_noises\n",
    "            select_arr = np.ones(num_cur_features)\n",
    "            print(np.sum(select_arr))\n",
    "            remaining_inds = np.nonzero(select_arr)[0]\n",
    "            resuming = True\n",
    "            score_list = []\n",
    "            precision_list =[]\n",
    "            recall_list = []\n",
    "            feature_list = []\n",
    "            start_time = time.time()\n",
    "            while resuming:\n",
    "                bool_arr = np.array(select_arr, dtype='bool') \n",
    "                X_train_selected = X_train[...,bool_arr]\n",
    "                X_test_selected = X_test[...,bool_arr]\n",
    "                clf = get_estimator(method)\n",
    "                clf.fit(X_train_selected, np.squeeze(y_train))\n",
    "\n",
    "                y_pred = clf.predict(X_test_selected)\n",
    "                score = mean_absolute_error(y_pred, y_test)\n",
    "                selected_features = np.where(select_arr==1)[0]\n",
    "    \n",
    "                precision, recall = calculate_precision_and_recall(gt_features, selected_features)\n",
    "                print(f'With {num_cur_features} features {method} mae score is {score},precision is {precision}, recall is {recall}')\n",
    "\n",
    "                score_list.append(score)\n",
    "                precision_list.append(precision)\n",
    "                recall_list.append(recall)\n",
    "                feature_list.append(selected_features)\n",
    "                \n",
    "                num_remove = int(num_cur_features*(1-reduce_rate))\n",
    "                if num_cur_features - num_remove<=num_select:\n",
    "                    num_remove = num_cur_features - num_select\n",
    "                num_cur_features -= num_remove\n",
    "                # print(num_cur_features)\n",
    "                estimator = get_estimator(method)\n",
    "                if num_remove == 0:\n",
    "                    resuming = False\n",
    "                    continue\n",
    "                selector = RFE(estimator, n_features_to_select=num_cur_features,step=num_remove)\n",
    "                selector = selector.fit(X_train_selected, np.squeeze(y_train))\n",
    "                selected_RFE = selector.ranking_\n",
    "                selected_RFE[selected_RFE != 1] = 0\n",
    "                bool_arr = np.array(selected_RFE, dtype='bool') \n",
    "    \n",
    "                inds = np.where(selected_RFE==0)[0]\n",
    "                # print(inds)\n",
    "                inds_to_remove = remaining_inds[inds]\n",
    "                # print(inds_to_remove)\n",
    "                select_arr[inds_to_remove] = 0\n",
    "                remaining_inds = np.nonzero(select_arr)[0]\n",
    "\n",
    "            elapsed_time = time.time() - start_time\n",
    "            dict_method = {}\n",
    "            dict_method['score'] = score_list\n",
    "            dict_method['precision'] = precision_list\n",
    "            dict_method['recall'] = recall_list\n",
    "            dict_method['feat'] = feature_list\n",
    "            dict_method['time'] = elapsed_time\n",
    "            with open(f'./result_simulation/{formula_id}_{method}_{repeat}.pkl', 'wb') as f:\n",
    "                pickle.dump(dict_method, f)"
   ]
  },
  {
   "cell_type": "code",
   "execution_count": null,
   "id": "940ec90c-bd6e-44bc-a1cb-fa000b018552",
   "metadata": {},
   "outputs": [],
   "source": []
  }
 ],
 "metadata": {
  "kernelspec": {
   "display_name": "Python 3 (ipykernel)",
   "language": "python",
   "name": "python3"
  },
  "language_info": {
   "codemirror_mode": {
    "name": "ipython",
    "version": 3
   },
   "file_extension": ".py",
   "mimetype": "text/x-python",
   "name": "python",
   "nbconvert_exporter": "python",
   "pygments_lexer": "ipython3",
   "version": "3.10.12"
  }
 },
 "nbformat": 4,
 "nbformat_minor": 5
}
